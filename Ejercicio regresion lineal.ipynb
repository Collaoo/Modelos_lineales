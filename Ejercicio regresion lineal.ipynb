{
 "cells": [
  {
   "cell_type": "code",
   "execution_count": 2,
   "metadata": {},
   "outputs": [
    {
     "name": "stderr",
     "output_type": "stream",
     "text": [
      "Warning message:\n",
      "\"package 'ggplot2' was built under R version 3.6.3\""
     ]
    }
   ],
   "source": [
    "library (ggplot2)"
   ]
  },
  {
   "cell_type": "code",
   "execution_count": 3,
   "metadata": {},
   "outputs": [
    {
     "data": {
      "text/html": [
       "<ol class=list-inline>\n",
       "\t<li>194.5</li>\n",
       "\t<li>194.3</li>\n",
       "\t<li>197.9</li>\n",
       "\t<li>198.4</li>\n",
       "\t<li>199.4</li>\n",
       "\t<li>199.9</li>\n",
       "\t<li>200.9</li>\n",
       "\t<li>201.1</li>\n",
       "\t<li>201.4</li>\n",
       "\t<li>201.3</li>\n",
       "\t<li>203.6</li>\n",
       "\t<li>204.6</li>\n",
       "\t<li>209.5</li>\n",
       "\t<li>208.6</li>\n",
       "\t<li>210.7</li>\n",
       "\t<li>211.9</li>\n",
       "\t<li>212.2</li>\n",
       "</ol>\n"
      ],
      "text/latex": [
       "\\begin{enumerate*}\n",
       "\\item 194.5\n",
       "\\item 194.3\n",
       "\\item 197.9\n",
       "\\item 198.4\n",
       "\\item 199.4\n",
       "\\item 199.9\n",
       "\\item 200.9\n",
       "\\item 201.1\n",
       "\\item 201.4\n",
       "\\item 201.3\n",
       "\\item 203.6\n",
       "\\item 204.6\n",
       "\\item 209.5\n",
       "\\item 208.6\n",
       "\\item 210.7\n",
       "\\item 211.9\n",
       "\\item 212.2\n",
       "\\end{enumerate*}\n"
      ],
      "text/markdown": [
       "1. 194.5\n",
       "2. 194.3\n",
       "3. 197.9\n",
       "4. 198.4\n",
       "5. 199.4\n",
       "6. 199.9\n",
       "7. 200.9\n",
       "8. 201.1\n",
       "9. 201.4\n",
       "10. 201.3\n",
       "11. 203.6\n",
       "12. 204.6\n",
       "13. 209.5\n",
       "14. 208.6\n",
       "15. 210.7\n",
       "16. 211.9\n",
       "17. 212.2\n",
       "\n",
       "\n"
      ],
      "text/plain": [
       " [1] 194.5 194.3 197.9 198.4 199.4 199.9 200.9 201.1 201.4 201.3 203.6 204.6\n",
       "[13] 209.5 208.6 210.7 211.9 212.2"
      ]
     },
     "metadata": {},
     "output_type": "display_data"
    },
    {
     "data": {
      "text/html": [
       "<ol class=list-inline>\n",
       "\t<li>20.79</li>\n",
       "\t<li>20.79</li>\n",
       "\t<li>22.4</li>\n",
       "\t<li>22.67</li>\n",
       "\t<li>23.15</li>\n",
       "\t<li>23.35</li>\n",
       "\t<li>23.89</li>\n",
       "\t<li>23.99</li>\n",
       "\t<li>24.02</li>\n",
       "\t<li>24.01</li>\n",
       "\t<li>25.14</li>\n",
       "\t<li>26.57</li>\n",
       "\t<li>28.49</li>\n",
       "\t<li>27.76</li>\n",
       "\t<li>29.04</li>\n",
       "\t<li>29.88</li>\n",
       "\t<li>30.06</li>\n",
       "</ol>\n"
      ],
      "text/latex": [
       "\\begin{enumerate*}\n",
       "\\item 20.79\n",
       "\\item 20.79\n",
       "\\item 22.4\n",
       "\\item 22.67\n",
       "\\item 23.15\n",
       "\\item 23.35\n",
       "\\item 23.89\n",
       "\\item 23.99\n",
       "\\item 24.02\n",
       "\\item 24.01\n",
       "\\item 25.14\n",
       "\\item 26.57\n",
       "\\item 28.49\n",
       "\\item 27.76\n",
       "\\item 29.04\n",
       "\\item 29.88\n",
       "\\item 30.06\n",
       "\\end{enumerate*}\n"
      ],
      "text/markdown": [
       "1. 20.79\n",
       "2. 20.79\n",
       "3. 22.4\n",
       "4. 22.67\n",
       "5. 23.15\n",
       "6. 23.35\n",
       "7. 23.89\n",
       "8. 23.99\n",
       "9. 24.02\n",
       "10. 24.01\n",
       "11. 25.14\n",
       "12. 26.57\n",
       "13. 28.49\n",
       "14. 27.76\n",
       "15. 29.04\n",
       "16. 29.88\n",
       "17. 30.06\n",
       "\n",
       "\n"
      ],
      "text/plain": [
       " [1] 20.79 20.79 22.40 22.67 23.15 23.35 23.89 23.99 24.02 24.01 25.14 26.57\n",
       "[13] 28.49 27.76 29.04 29.88 30.06"
      ]
     },
     "metadata": {},
     "output_type": "display_data"
    }
   ],
   "source": [
    "temp <- c(194.5,194.3,197.9,198.4,199.4,199.9,200.9,201.1,201.4,201.3,203.6,204.6,209.5,208.6,210.7,211.9,212.2)\n",
    "temp\n",
    "pres <- c(20.79,20.79,22.40,22.67,23.15,23.35,23.89,23.99,24.02,24.01,25.14,26.57,28.49,27.76,29.04,29.88,30.06)\n",
    "pres\n"
   ]
  },
  {
   "cell_type": "code",
   "execution_count": 4,
   "metadata": {},
   "outputs": [
    {
     "data": {
      "text/html": [
       "17.3463786764706"
      ],
      "text/latex": [
       "17.3463786764706"
      ],
      "text/markdown": [
       "17.3463786764706"
      ],
      "text/plain": [
       "[1] 17.34638"
      ]
     },
     "metadata": {},
     "output_type": "display_data"
    }
   ],
   "source": [
    "cov(pres,temp)"
   ]
  },
  {
   "cell_type": "code",
   "execution_count": 5,
   "metadata": {},
   "outputs": [
    {
     "data": {
      "text/html": [
       "<table>\n",
       "<thead><tr><th scope=col>temperatura</th><th scope=col>presion</th></tr></thead>\n",
       "<tbody>\n",
       "\t<tr><td>194.5</td><td>20.79</td></tr>\n",
       "\t<tr><td>194.3</td><td>20.79</td></tr>\n",
       "\t<tr><td>197.9</td><td>22.40</td></tr>\n",
       "\t<tr><td>198.4</td><td>22.67</td></tr>\n",
       "\t<tr><td>199.4</td><td>23.15</td></tr>\n",
       "\t<tr><td>199.9</td><td>23.35</td></tr>\n",
       "\t<tr><td>200.9</td><td>23.89</td></tr>\n",
       "\t<tr><td>201.1</td><td>23.99</td></tr>\n",
       "\t<tr><td>201.4</td><td>24.02</td></tr>\n",
       "\t<tr><td>201.3</td><td>24.01</td></tr>\n",
       "\t<tr><td>203.6</td><td>25.14</td></tr>\n",
       "\t<tr><td>204.6</td><td>26.57</td></tr>\n",
       "\t<tr><td>209.5</td><td>28.49</td></tr>\n",
       "\t<tr><td>208.6</td><td>27.76</td></tr>\n",
       "\t<tr><td>210.7</td><td>29.04</td></tr>\n",
       "\t<tr><td>211.9</td><td>29.88</td></tr>\n",
       "\t<tr><td>212.2</td><td>30.06</td></tr>\n",
       "</tbody>\n",
       "</table>\n"
      ],
      "text/latex": [
       "\\begin{tabular}{r|ll}\n",
       " temperatura & presion\\\\\n",
       "\\hline\n",
       "\t 194.5 & 20.79\\\\\n",
       "\t 194.3 & 20.79\\\\\n",
       "\t 197.9 & 22.40\\\\\n",
       "\t 198.4 & 22.67\\\\\n",
       "\t 199.4 & 23.15\\\\\n",
       "\t 199.9 & 23.35\\\\\n",
       "\t 200.9 & 23.89\\\\\n",
       "\t 201.1 & 23.99\\\\\n",
       "\t 201.4 & 24.02\\\\\n",
       "\t 201.3 & 24.01\\\\\n",
       "\t 203.6 & 25.14\\\\\n",
       "\t 204.6 & 26.57\\\\\n",
       "\t 209.5 & 28.49\\\\\n",
       "\t 208.6 & 27.76\\\\\n",
       "\t 210.7 & 29.04\\\\\n",
       "\t 211.9 & 29.88\\\\\n",
       "\t 212.2 & 30.06\\\\\n",
       "\\end{tabular}\n"
      ],
      "text/markdown": [
       "\n",
       "| temperatura | presion |\n",
       "|---|---|\n",
       "| 194.5 | 20.79 |\n",
       "| 194.3 | 20.79 |\n",
       "| 197.9 | 22.40 |\n",
       "| 198.4 | 22.67 |\n",
       "| 199.4 | 23.15 |\n",
       "| 199.9 | 23.35 |\n",
       "| 200.9 | 23.89 |\n",
       "| 201.1 | 23.99 |\n",
       "| 201.4 | 24.02 |\n",
       "| 201.3 | 24.01 |\n",
       "| 203.6 | 25.14 |\n",
       "| 204.6 | 26.57 |\n",
       "| 209.5 | 28.49 |\n",
       "| 208.6 | 27.76 |\n",
       "| 210.7 | 29.04 |\n",
       "| 211.9 | 29.88 |\n",
       "| 212.2 | 30.06 |\n",
       "\n"
      ],
      "text/plain": [
       "   temperatura presion\n",
       "1  194.5       20.79  \n",
       "2  194.3       20.79  \n",
       "3  197.9       22.40  \n",
       "4  198.4       22.67  \n",
       "5  199.4       23.15  \n",
       "6  199.9       23.35  \n",
       "7  200.9       23.89  \n",
       "8  201.1       23.99  \n",
       "9  201.4       24.02  \n",
       "10 201.3       24.01  \n",
       "11 203.6       25.14  \n",
       "12 204.6       26.57  \n",
       "13 209.5       28.49  \n",
       "14 208.6       27.76  \n",
       "15 210.7       29.04  \n",
       "16 211.9       29.88  \n",
       "17 212.2       30.06  "
      ]
     },
     "metadata": {},
     "output_type": "display_data"
    }
   ],
   "source": [
    "mi_df <- data.frame(\n",
    " \"temperatura\"= temp,\n",
    " \"presion\"= pres)\n",
    "mi_df"
   ]
  },
  {
   "cell_type": "code",
   "execution_count": 6,
   "metadata": {},
   "outputs": [
    {
     "data": {
      "text/html": [
       "<table>\n",
       "<thead><tr><th scope=col>temperatura</th><th scope=col>presion</th><th scope=col>logpres</th></tr></thead>\n",
       "<tbody>\n",
       "\t<tr><td>194.5   </td><td>20.79   </td><td>131.7854</td></tr>\n",
       "\t<tr><td>194.3   </td><td>20.79   </td><td>131.7854</td></tr>\n",
       "\t<tr><td>197.9   </td><td>22.40   </td><td>135.0248</td></tr>\n",
       "\t<tr><td>198.4   </td><td>22.67   </td><td>135.5452</td></tr>\n",
       "\t<tr><td>199.4   </td><td>23.15   </td><td>136.4551</td></tr>\n",
       "\t<tr><td>199.9   </td><td>23.35   </td><td>136.8287</td></tr>\n",
       "\t<tr><td>200.9   </td><td>23.89   </td><td>137.8216</td></tr>\n",
       "\t<tr><td>201.1   </td><td>23.99   </td><td>138.0030</td></tr>\n",
       "\t<tr><td>201.4   </td><td>24.02   </td><td>138.0573</td></tr>\n",
       "\t<tr><td>201.3   </td><td>24.01   </td><td>138.0392</td></tr>\n",
       "\t<tr><td>203.6   </td><td>25.14   </td><td>140.0365</td></tr>\n",
       "\t<tr><td>204.6   </td><td>26.57   </td><td>142.4392</td></tr>\n",
       "\t<tr><td>209.5   </td><td>28.49   </td><td>145.4692</td></tr>\n",
       "\t<tr><td>208.6   </td><td>27.76   </td><td>144.3419</td></tr>\n",
       "\t<tr><td>210.7   </td><td>29.04   </td><td>146.2997</td></tr>\n",
       "\t<tr><td>211.9   </td><td>29.88   </td><td>147.5381</td></tr>\n",
       "\t<tr><td>212.2   </td><td>30.06   </td><td>147.7989</td></tr>\n",
       "</tbody>\n",
       "</table>\n"
      ],
      "text/latex": [
       "\\begin{tabular}{r|lll}\n",
       " temperatura & presion & logpres\\\\\n",
       "\\hline\n",
       "\t 194.5    & 20.79    & 131.7854\\\\\n",
       "\t 194.3    & 20.79    & 131.7854\\\\\n",
       "\t 197.9    & 22.40    & 135.0248\\\\\n",
       "\t 198.4    & 22.67    & 135.5452\\\\\n",
       "\t 199.4    & 23.15    & 136.4551\\\\\n",
       "\t 199.9    & 23.35    & 136.8287\\\\\n",
       "\t 200.9    & 23.89    & 137.8216\\\\\n",
       "\t 201.1    & 23.99    & 138.0030\\\\\n",
       "\t 201.4    & 24.02    & 138.0573\\\\\n",
       "\t 201.3    & 24.01    & 138.0392\\\\\n",
       "\t 203.6    & 25.14    & 140.0365\\\\\n",
       "\t 204.6    & 26.57    & 142.4392\\\\\n",
       "\t 209.5    & 28.49    & 145.4692\\\\\n",
       "\t 208.6    & 27.76    & 144.3419\\\\\n",
       "\t 210.7    & 29.04    & 146.2997\\\\\n",
       "\t 211.9    & 29.88    & 147.5381\\\\\n",
       "\t 212.2    & 30.06    & 147.7989\\\\\n",
       "\\end{tabular}\n"
      ],
      "text/markdown": [
       "\n",
       "| temperatura | presion | logpres |\n",
       "|---|---|---|\n",
       "| 194.5    | 20.79    | 131.7854 |\n",
       "| 194.3    | 20.79    | 131.7854 |\n",
       "| 197.9    | 22.40    | 135.0248 |\n",
       "| 198.4    | 22.67    | 135.5452 |\n",
       "| 199.4    | 23.15    | 136.4551 |\n",
       "| 199.9    | 23.35    | 136.8287 |\n",
       "| 200.9    | 23.89    | 137.8216 |\n",
       "| 201.1    | 23.99    | 138.0030 |\n",
       "| 201.4    | 24.02    | 138.0573 |\n",
       "| 201.3    | 24.01    | 138.0392 |\n",
       "| 203.6    | 25.14    | 140.0365 |\n",
       "| 204.6    | 26.57    | 142.4392 |\n",
       "| 209.5    | 28.49    | 145.4692 |\n",
       "| 208.6    | 27.76    | 144.3419 |\n",
       "| 210.7    | 29.04    | 146.2997 |\n",
       "| 211.9    | 29.88    | 147.5381 |\n",
       "| 212.2    | 30.06    | 147.7989 |\n",
       "\n"
      ],
      "text/plain": [
       "   temperatura presion logpres \n",
       "1  194.5       20.79   131.7854\n",
       "2  194.3       20.79   131.7854\n",
       "3  197.9       22.40   135.0248\n",
       "4  198.4       22.67   135.5452\n",
       "5  199.4       23.15   136.4551\n",
       "6  199.9       23.35   136.8287\n",
       "7  200.9       23.89   137.8216\n",
       "8  201.1       23.99   138.0030\n",
       "9  201.4       24.02   138.0573\n",
       "10 201.3       24.01   138.0392\n",
       "11 203.6       25.14   140.0365\n",
       "12 204.6       26.57   142.4392\n",
       "13 209.5       28.49   145.4692\n",
       "14 208.6       27.76   144.3419\n",
       "15 210.7       29.04   146.2997\n",
       "16 211.9       29.88   147.5381\n",
       "17 212.2       30.06   147.7989"
      ]
     },
     "metadata": {},
     "output_type": "display_data"
    }
   ],
   "source": [
    "logpres <- 100*log10(mi_df$presion)\n",
    "log<- data.frame(logpres)\n",
    "datos <- cbind(mi_df, log)\n",
    "datos"
   ]
  },
  {
   "cell_type": "code",
   "execution_count": 7,
   "metadata": {},
   "outputs": [
    {
     "data": {
      "image/png": "[encoded data removed]",
      "text/plain": [
       "plot without title"
      ]
     },
     "metadata": {},
     "output_type": "display_data"
    }
   ],
   "source": [
    "plot(datos$temperatura,datos$pres)"
   ]
  },
  {
   "cell_type": "code",
   "execution_count": 8,
   "metadata": {},
   "outputs": [
    {
     "data": {
      "image/png": "[encoded data removed]",
      "text/plain": [
       "plot without title"
      ]
     },
     "metadata": {},
     "output_type": "display_data"
    }
   ],
   "source": [
    "plot(datos$temperatura,datos$logpres)"
   ]
  },
  {
   "cell_type": "code",
   "execution_count": 9,
   "metadata": {},
   "outputs": [
    {
     "data": {
      "text/plain": [
       "  temperatura       presion         logpres     \n",
       " Min.   :194.3   Min.   :20.79   Min.   :131.8  \n",
       " 1st Qu.:199.4   1st Qu.:23.15   1st Qu.:136.5  \n",
       " Median :201.3   Median :24.01   Median :138.0  \n",
       " Mean   :203.0   Mean   :25.06   Mean   :139.6  \n",
       " 3rd Qu.:208.6   3rd Qu.:27.76   3rd Qu.:144.3  \n",
       " Max.   :212.2   Max.   :30.06   Max.   :147.8  "
      ]
     },
     "metadata": {},
     "output_type": "display_data"
    }
   ],
   "source": [
    "summary(datos)"
   ]
  },
  {
   "cell_type": "code",
   "execution_count": 10,
   "metadata": {},
   "outputs": [],
   "source": [
    " \n",
    "x <- datos$temp\n",
    "y <- datos$logpres\n",
    "\n",
    "beta <- data.frame(\n",
    " \"1\"= 1:17,\n",
    "  \"2\"= 1:17)\n"
   ]
  },
  {
   "cell_type": "code",
   "execution_count": 11,
   "metadata": {},
   "outputs": [
    {
     "data": {
      "text/html": [
       "0.895617764651148"
      ],
      "text/latex": [
       "0.895617764651148"
      ],
      "text/markdown": [
       "0.895617764651148"
      ],
      "text/plain": [
       "[1] 0.8956178"
      ]
     },
     "metadata": {},
     "output_type": "display_data"
    }
   ],
   "source": [
    "## estimadores para beta0 y beta1\n",
    "for (i in 1:17) {\n",
    "    \n",
    "    beta[i,1] <- ((datos[i,3])-mean(datos$logpres)) *(datos[i,1]-mean(datos$temp))\n",
    "    SXY <- sum(beta[,1])\n",
    "}\n",
    "\n",
    "for (i in 1:17){\n",
    "    \n",
    "    beta[i,2] <- (((datos[i,1]-mean(datos$temp)))^2)\n",
    "    SXX <- sum(beta[,2])\n",
    "}\n",
    "\n",
    "\n",
    "b1gorro <- SXY/SXX\n",
    "b1gorro"
   ]
  },
  {
   "cell_type": "code",
   "execution_count": 12,
   "metadata": {},
   "outputs": [
    {
     "data": {
      "text/html": [
       "-42.1641837503985"
      ],
      "text/latex": [
       "-42.1641837503985"
      ],
      "text/markdown": [
       "-42.1641837503985"
      ],
      "text/plain": [
       "[1] -42.16418"
      ]
     },
     "metadata": {},
     "output_type": "display_data"
    }
   ],
   "source": [
    "b0gorro <- mean(y)- b1gorro *mean(x)\n",
    "b0gorro\n"
   ]
  },
  {
   "cell_type": "code",
   "execution_count": 13,
   "metadata": {},
   "outputs": [
    {
     "data": {
      "image/png": "[encoded data removed]",
      "text/plain": [
       "plot without title"
      ]
     },
     "metadata": {},
     "output_type": "display_data"
    }
   ],
   "source": [
    "regresion <- function(x){b0gorro + b1gorro * x}\n",
    "plot (datos$temp, datos$logpres)\n",
    "par(new=TRUE)\n",
    "plot(regresion)"
   ]
  },
  {
   "cell_type": "code",
   "execution_count": 14,
   "metadata": {},
   "outputs": [
    {
     "data": {
      "text/plain": [
       "\n",
       "Call:\n",
       "lm(formula = logpres ~ temperatura, data = datos)\n",
       "\n",
       "Residuals:\n",
       "     Min       1Q   Median       3Q      Max \n",
       "-0.31974 -0.14707 -0.06890  0.01877  1.35994 \n",
       "\n",
       "Coefficients:\n",
       "             Estimate Std. Error t value Pr(>|t|)    \n",
       "(Intercept) -42.16418    3.34136  -12.62 2.17e-09 ***\n",
       "temperatura   0.89562    0.01646   54.42  < 2e-16 ***\n",
       "---\n",
       "Signif. codes:  0 '***' 0.001 '**' 0.01 '*' 0.05 '.' 0.1 ' ' 1\n",
       "\n",
       "Residual standard error: 0.3792 on 15 degrees of freedom\n",
       "Multiple R-squared:  0.995,\tAdjusted R-squared:  0.9946 \n",
       "F-statistic:  2962 on 1 and 15 DF,  p-value: < 2.2e-16\n"
      ]
     },
     "metadata": {},
     "output_type": "display_data"
    }
   ],
   "source": [
    "reglineal <- lm(logpres ~ temperatura, data = datos)\n",
    "summary(reglineal)"
   ]
  },
  {
   "cell_type": "code",
   "execution_count": 15,
   "metadata": {},
   "outputs": [
    {
     "data": {
      "text/html": [
       "<dl class=dl-horizontal>\n",
       "\t<dt>1</dt>\n",
       "\t\t<dd>-0.248022541102642</dd>\n",
       "\t<dt>2</dt>\n",
       "\t\t<dd>-0.0688989881726962</dd>\n",
       "\t<dt>3</dt>\n",
       "\t\t<dd>-0.0537700406474538</dd>\n",
       "\t<dt>4</dt>\n",
       "\t\t<dd>0.0187712562624382</dd>\n",
       "\t<dt>5</dt>\n",
       "\t\t<dd>0.033101014356749</dd>\n",
       "\t<dt>6</dt>\n",
       "\t\t<dd>-0.0411189131529081</dd>\n",
       "\t<dt>7</dt>\n",
       "\t\t<dd>0.0561898069706473</dd>\n",
       "\t<dt>8</dt>\n",
       "\t\t<dd>0.0584760758356849</dd>\n",
       "\t<dt>9</dt>\n",
       "\t\t<dd>-0.155933743654004</dd>\n",
       "\t<dt>10</dt>\n",
       "\t\t<dd>-0.0844562681748984</dd>\n",
       "\t<dt>11</dt>\n",
       "\t\t<dd>-0.147065797581321</dd>\n",
       "\t<dt>12</dt>\n",
       "\t\t<dd>1.35994454380137</dd>\n",
       "\t<dt>13</dt>\n",
       "\t\t<dd>0.00150697993070306</dd>\n",
       "\t<dt>14</dt>\n",
       "\t\t<dd>-0.319735777549202</dd>\n",
       "\t<dt>15</dt>\n",
       "\t\t<dd>-0.242818058792721</dd>\n",
       "\t<dt>16</dt>\n",
       "\t\t<dd>-0.0791612648436076</dd>\n",
       "\t<dt>17</dt>\n",
       "\t\t<dd>-0.0870082834861335</dd>\n",
       "</dl>\n"
      ],
      "text/latex": [
       "\\begin{description*}\n",
       "\\item[1] -0.248022541102642\n",
       "\\item[2] -0.0688989881726962\n",
       "\\item[3] -0.0537700406474538\n",
       "\\item[4] 0.0187712562624382\n",
       "\\item[5] 0.033101014356749\n",
       "\\item[6] -0.0411189131529081\n",
       "\\item[7] 0.0561898069706473\n",
       "\\item[8] 0.0584760758356849\n",
       "\\item[9] -0.155933743654004\n",
       "\\item[10] -0.0844562681748984\n",
       "\\item[11] -0.147065797581321\n",
       "\\item[12] 1.35994454380137\n",
       "\\item[13] 0.00150697993070306\n",
       "\\item[14] -0.319735777549202\n",
       "\\item[15] -0.242818058792721\n",
       "\\item[16] -0.0791612648436076\n",
       "\\item[17] -0.0870082834861335\n",
       "\\end{description*}\n"
      ],
      "text/markdown": [
       "1\n",
       ":   -0.2480225411026422\n",
       ":   -0.06889898817269623\n",
       ":   -0.05377004064745384\n",
       ":   0.01877125626243825\n",
       ":   0.0331010143567496\n",
       ":   -0.04111891315290817\n",
       ":   0.05618980697064738\n",
       ":   0.05847607583568499\n",
       ":   -0.15593374365400410\n",
       ":   -0.084456268174898411\n",
       ":   -0.14706579758132112\n",
       ":   1.3599445438013713\n",
       ":   0.0015069799307030614\n",
       ":   -0.31973577754920215\n",
       ":   -0.24281805879272116\n",
       ":   -0.079161264843607617\n",
       ":   -0.0870082834861335\n",
       "\n"
      ],
      "text/plain": [
       "          1           2           3           4           5           6 \n",
       "-0.24802254 -0.06889899 -0.05377004  0.01877126  0.03310101 -0.04111891 \n",
       "          7           8           9          10          11          12 \n",
       " 0.05618981  0.05847608 -0.15593374 -0.08445627 -0.14706580  1.35994454 \n",
       "         13          14          15          16          17 \n",
       " 0.00150698 -0.31973578 -0.24281806 -0.07916126 -0.08700828 "
      ]
     },
     "metadata": {},
     "output_type": "display_data"
    }
   ],
   "source": [
    "residuals(reglineal)"
   ]
  },
  {
   "cell_type": "code",
   "execution_count": 16,
   "metadata": {},
   "outputs": [
    {
     "data": {
      "image/png": "[encoded data removed]",
      "text/plain": [
       "Plot with title \"\""
      ]
     },
     "metadata": {},
     "output_type": "display_data"
    },
    {
     "data": {
      "image/png": "[encoded data removed]",
      "text/plain": [
       "Plot with title \"\""
      ]
     },
     "metadata": {},
     "output_type": "display_data"
    },
    {
     "data": {
      "image/png": "[encoded data removed]",
      "text/plain": [
       "Plot with title \"\""
      ]
     },
     "metadata": {},
     "output_type": "display_data"
    },
    {
     "data": {
      "image/png": "[encoded data removed]",
      "text/plain": [
       "Plot with title \"\""
      ]
     },
     "metadata": {},
     "output_type": "display_data"
    }
   ],
   "source": [
    "regresion <- function(x){b0gorro + b1gorro * x}\n",
    "\n",
    "plot(reglineal)\n"
   ]
  },
  {
   "cell_type": "code",
   "execution_count": 17,
   "metadata": {},
   "outputs": [
    {
     "name": "stderr",
     "output_type": "stream",
     "text": [
      "`geom_smooth()` using formula 'y ~ x'\n"
     ]
    },
    {
     "data": {
      "image/png": "[encoded data removed]",
      "text/plain": [
       "plot without title"
      ]
     },
     "metadata": {},
     "output_type": "display_data"
    }
   ],
   "source": [
    "ggplot(data = datos, mapping = aes(x = temperatura, y = logpres)) +\n",
    "geom_point(color = \"firebrick\", size = 2) +\n",
    "geom_smooth(method = \"lm\", se = TRUE, color = \"black\") +\n",
    "labs(title = \"logaritmo de la presion x100 ~ temperatura\", x = \"Temperatura\", y = \"Logpres\") +\n",
    "theme_bw() + theme(plot.title = element_text(hjust = 0.5)) "
   ]
  },
  {
   "cell_type": "code",
   "execution_count": null,
   "metadata": {},
   "outputs": [],
   "source": []
  }
 ],
 "metadata": {
  "kernelspec": {
   "display_name": "R",
   "language": "R",
   "name": "ir"
  },
  "language_info": {
   "codemirror_mode": "r",
   "file_extension": ".r",
   "mimetype": "text/x-r-source",
   "name": "R",
   "pygments_lexer": "r",
   "version": "3.6.1"
  }
 },
 "nbformat": 4,
 "nbformat_minor": 4
}
