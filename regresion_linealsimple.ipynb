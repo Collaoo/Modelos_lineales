{
 "cells": [
  {
   "cell_type": "code",
   "execution_count": 2,
   "metadata": {},
   "outputs": [
    {
     "name": "stderr",
     "output_type": "stream",
     "text": [
      "Warning message:\n",
      "\"package 'ggplot2' was built under R version 3.6.3\"Warning message:\n",
      "\"package 'lmtest' was built under R version 3.6.3\"Loading required package: zoo\n",
      "\n",
      "Attaching package: 'zoo'\n",
      "\n",
      "The following objects are masked from 'package:base':\n",
      "\n",
      "    as.Date, as.Date.numeric\n",
      "\n"
     ]
    }
   ],
   "source": [
    "library(ggplot2)\n",
    "library (lmtest)"
   ]
  },
  {
   "cell_type": "code",
   "execution_count": 3,
   "metadata": {},
   "outputs": [
    {
     "data": {
      "image/png": "[encoded data removed]",
      "text/plain": [
       "plot without title"
      ]
     },
     "metadata": {},
     "output_type": "display_data"
    }
   ],
   "source": [
    "n <- 6\n",
    "sal <- c(1.8,2.2,3.5,4.0,4.3,5.0)\n",
    "presion<- c(100,98,110,110,112,120)\n",
    "df <- data.frame(\n",
    "\"Sal\"= sal,\n",
    "\"presión\"=presion)\n",
    "plot(sal,presion)"
   ]
  },
  {
   "cell_type": "code",
   "execution_count": 4,
   "metadata": {},
   "outputs": [
    {
     "data": {
      "text/html": [
       "<table>\n",
       "<thead><tr><th scope=col>Sal</th><th scope=col>presión</th></tr></thead>\n",
       "<tbody>\n",
       "\t<tr><td>1.8</td><td>100</td></tr>\n",
       "\t<tr><td>2.2</td><td> 98</td></tr>\n",
       "\t<tr><td>3.5</td><td>110</td></tr>\n",
       "\t<tr><td>4.0</td><td>110</td></tr>\n",
       "\t<tr><td>4.3</td><td>112</td></tr>\n",
       "\t<tr><td>5.0</td><td>120</td></tr>\n",
       "</tbody>\n",
       "</table>\n"
      ],
      "text/latex": [
       "\\begin{tabular}{r|ll}\n",
       " Sal & presión\\\\\n",
       "\\hline\n",
       "\t 1.8 & 100\\\\\n",
       "\t 2.2 &  98\\\\\n",
       "\t 3.5 & 110\\\\\n",
       "\t 4.0 & 110\\\\\n",
       "\t 4.3 & 112\\\\\n",
       "\t 5.0 & 120\\\\\n",
       "\\end{tabular}\n"
      ],
      "text/markdown": [
       "\n",
       "| Sal | presión |\n",
       "|---|---|\n",
       "| 1.8 | 100 |\n",
       "| 2.2 |  98 |\n",
       "| 3.5 | 110 |\n",
       "| 4.0 | 110 |\n",
       "| 4.3 | 112 |\n",
       "| 5.0 | 120 |\n",
       "\n"
      ],
      "text/plain": [
       "  Sal presión\n",
       "1 1.8 100    \n",
       "2 2.2  98    \n",
       "3 3.5 110    \n",
       "4 4.0 110    \n",
       "5 4.3 112    \n",
       "6 5.0 120    "
      ]
     },
     "metadata": {},
     "output_type": "display_data"
    }
   ],
   "source": [
    "df"
   ]
  },
  {
   "cell_type": "code",
   "execution_count": 5,
   "metadata": {},
   "outputs": [
    {
     "data": {
      "text/plain": [
       "\n",
       "Call:\n",
       "lm(formula = presion ~ sal, data = df)\n",
       "\n",
       "Residuals:\n",
       "     1      2      3      4      5      6 \n",
       " 2.226 -2.309  1.455 -1.712 -1.613  1.952 \n",
       "\n",
       "Coefficients:\n",
       "            Estimate Std. Error t value Pr(>|t|)    \n",
       "(Intercept)  86.3708     3.0621  28.206  9.4e-06 ***\n",
       "sal           6.3354     0.8395   7.546  0.00165 ** \n",
       "---\n",
       "Signif. codes:  0 '***' 0.001 '**' 0.01 '*' 0.05 '.' 0.1 ' ' 1\n",
       "\n",
       "Residual standard error: 2.332 on 4 degrees of freedom\n",
       "Multiple R-squared:  0.9344,\tAdjusted R-squared:  0.918 \n",
       "F-statistic: 56.95 on 1 and 4 DF,  p-value: 0.001652\n"
      ]
     },
     "metadata": {},
     "output_type": "display_data"
    }
   ],
   "source": [
    "regresion <- lm(presion~sal,data=df)\n",
    "summary(regresion)\n",
    "predict <- predict(regresion)"
   ]
  },
  {
   "cell_type": "markdown",
   "metadata": {},
   "source": [
    "estimadcion de los parametros"
   ]
  },
  {
   "cell_type": "code",
   "execution_count": 6,
   "metadata": {},
   "outputs": [
    {
     "data": {
      "image/png": "[encoded data removed]",
      "text/plain": [
       "plot without title"
      ]
     },
     "metadata": {},
     "output_type": "display_data"
    }
   ],
   "source": [
    "ggplot(data = df, mapping = aes(x = presion, y = sal)) +\n",
    "geom_point(color = \"firebrick\", size = 3)+\n",
    "geom_line(aes(x=predict), lwd = 1, color = 4)"
   ]
  },
  {
   "cell_type": "code",
   "execution_count": 7,
   "metadata": {},
   "outputs": [
    {
     "data": {
      "image/png": "[encoded data removed]",
      "text/plain": [
       "Plot with title \"Histogram of residuals(regresion)\""
      ]
     },
     "metadata": {},
     "output_type": "display_data"
    }
   ],
   "source": [
    "hist(residuals(regresion))"
   ]
  },
  {
   "cell_type": "code",
   "execution_count": 8,
   "metadata": {},
   "outputs": [],
   "source": [
    "xm <- mean(sal)\n",
    "ym <- mean(presion)\n",
    "sxy <- sum((sal-xm)*(presion-ym))\n",
    "sxx <- sum((sal-xm)^2)\n",
    "syy <- sum((presion-ym)^2)\n",
    "est.b1<- sxy/sxx\n",
    "est.b0 <- ym - est.b1 *xm"
   ]
  },
  {
   "cell_type": "code",
   "execution_count": 9,
   "metadata": {},
   "outputs": [
    {
     "data": {
      "text/html": [
       "0.96662739848421"
      ],
      "text/latex": [
       "0.96662739848421"
      ],
      "text/markdown": [
       "0.96662739848421"
      ],
      "text/plain": [
       "[1] 0.9666274"
      ]
     },
     "metadata": {},
     "output_type": "display_data"
    },
    {
     "data": {
      "text/html": [
       "0.96662739848421"
      ],
      "text/latex": [
       "0.96662739848421"
      ],
      "text/markdown": [
       "0.96662739848421"
      ],
      "text/plain": [
       "[1] 0.9666274"
      ]
     },
     "metadata": {},
     "output_type": "display_data"
    }
   ],
   "source": [
    "cor(sal,presion, method= \"pearson\")\n",
    "cov=sxy/5\n",
    "cor = cov/(sd(sal)*sd(presion))\n",
    "cor"
   ]
  },
  {
   "cell_type": "code",
   "execution_count": 10,
   "metadata": {},
   "outputs": [
    {
     "data": {
      "text/html": [
       "6.33535004321521"
      ],
      "text/latex": [
       "6.33535004321521"
      ],
      "text/markdown": [
       "6.33535004321521"
      ],
      "text/plain": [
       "[1] 6.33535"
      ]
     },
     "metadata": {},
     "output_type": "display_data"
    },
    {
     "data": {
      "text/html": [
       "86.3707865168539"
      ],
      "text/latex": [
       "86.3707865168539"
      ],
      "text/markdown": [
       "86.3707865168539"
      ],
      "text/plain": [
       "[1] 86.37079"
      ]
     },
     "metadata": {},
     "output_type": "display_data"
    }
   ],
   "source": [
    "est.b1\n",
    "est.b0"
   ]
  },
  {
   "cell_type": "code",
   "execution_count": 11,
   "metadata": {},
   "outputs": [
    {
     "data": {
      "text/html": [
       "5.43647363872083"
      ],
      "text/latex": [
       "5.43647363872083"
      ],
      "text/markdown": [
       "5.43647363872083"
      ],
      "text/plain": [
       "[1] 5.436474"
      ]
     },
     "metadata": {},
     "output_type": "display_data"
    }
   ],
   "source": [
    "ests2<-(1/(n-2))*sum((presion- predict)^2)\n",
    "ests2"
   ]
  },
  {
   "cell_type": "code",
   "execution_count": 12,
   "metadata": {},
   "outputs": [
    {
     "data": {
      "text/html": [
       "0.934368527500349"
      ],
      "text/latex": [
       "0.934368527500349"
      ],
      "text/markdown": [
       "0.934368527500349"
      ],
      "text/plain": [
       "[1] 0.9343685"
      ]
     },
     "metadata": {},
     "output_type": "display_data"
    }
   ],
   "source": [
    "sstotal <- sum((presion-mean(presion))^2)\n",
    "ssresidual <- sum((presion-predict)^2)\n",
    "ssreg <- sum((predict-mean(presion))^2)\n",
    "ssreg/sstotal #coeficiente de determinacion"
   ]
  },
  {
   "cell_type": "code",
   "execution_count": 13,
   "metadata": {
    "scrolled": true
   },
   "outputs": [
    {
     "data": {
      "text/plain": [
       "            Df Sum Sq Mean Sq F value  Pr(>F)   \n",
       "sal          1 309.59  309.59   56.95 0.00165 **\n",
       "Residuals    4  21.75    5.44                   \n",
       "---\n",
       "Signif. codes:  0 '***' 0.001 '**' 0.01 '*' 0.05 '.' 0.1 ' ' 1"
      ]
     },
     "metadata": {},
     "output_type": "display_data"
    }
   ],
   "source": [
    "anova <- aov(regresion)\n",
    "summary(anova)"
   ]
  },
  {
   "cell_type": "code",
   "execution_count": 14,
   "metadata": {},
   "outputs": [
    {
     "data": {
      "text/plain": [
       "\n",
       "Call:\n",
       "lm(formula = presion ~ sal, data = df)\n",
       "\n",
       "Residuals:\n",
       "     1      2      3      4      5      6 \n",
       " 2.226 -2.309  1.455 -1.712 -1.613  1.952 \n",
       "\n",
       "Coefficients:\n",
       "            Estimate Std. Error t value Pr(>|t|)    \n",
       "(Intercept)  86.3708     3.0621  28.206  9.4e-06 ***\n",
       "sal           6.3354     0.8395   7.546  0.00165 ** \n",
       "---\n",
       "Signif. codes:  0 '***' 0.001 '**' 0.01 '*' 0.05 '.' 0.1 ' ' 1\n",
       "\n",
       "Residual standard error: 2.332 on 4 degrees of freedom\n",
       "Multiple R-squared:  0.9344,\tAdjusted R-squared:  0.918 \n",
       "F-statistic: 56.95 on 1 and 4 DF,  p-value: 0.001652\n"
      ]
     },
     "metadata": {},
     "output_type": "display_data"
    }
   ],
   "source": [
    "summary(regresion)"
   ]
  },
  {
   "cell_type": "code",
   "execution_count": 15,
   "metadata": {},
   "outputs": [
    {
     "data": {
      "text/html": [
       "<dl class=dl-horizontal>\n",
       "\t<dt>(Intercept)</dt>\n",
       "\t\t<dd>86.370786516854</dd>\n",
       "\t<dt>sal</dt>\n",
       "\t\t<dd>6.3353500432152</dd>\n",
       "</dl>\n"
      ],
      "text/latex": [
       "\\begin{description*}\n",
       "\\item[(Intercept)] 86.370786516854\n",
       "\\item[sal] 6.3353500432152\n",
       "\\end{description*}\n"
      ],
      "text/markdown": [
       "(Intercept)\n",
       ":   86.370786516854sal\n",
       ":   6.3353500432152\n",
       "\n"
      ],
      "text/plain": [
       "(Intercept)         sal \n",
       "   86.37079     6.33535 "
      ]
     },
     "metadata": {},
     "output_type": "display_data"
    }
   ],
   "source": [
    "coef(regresion)"
   ]
  },
  {
   "cell_type": "markdown",
   "metadata": {},
   "source": [
    "### intervalos de confianza para beta0, beta1 y s2"
   ]
  },
  {
   "cell_type": "code",
   "execution_count": 16,
   "metadata": {},
   "outputs": [
    {
     "data": {
      "text/html": [
       "77.8690641005659"
      ],
      "text/latex": [
       "77.8690641005659"
      ],
      "text/markdown": [
       "77.8690641005659"
      ],
      "text/plain": [
       "[1] 77.86906"
      ]
     },
     "metadata": {},
     "output_type": "display_data"
    },
    {
     "data": {
      "text/html": [
       "94.8725089331419"
      ],
      "text/latex": [
       "94.8725089331419"
      ],
      "text/markdown": [
       "94.8725089331419"
      ],
      "text/plain": [
       "[1] 94.87251"
      ]
     },
     "metadata": {},
     "output_type": "display_data"
    }
   ],
   "source": [
    "est.b0- qt(0.975, 4) * sqrt(ests2) * sqrt ( (1/n)+ (xm^2/sxx))\n",
    "est.b0+ qt(0.975, 4) * sqrt(ests2) * sqrt ( (1/n)+ (xm^2/sxx))"
   ]
  },
  {
   "cell_type": "code",
   "execution_count": 17,
   "metadata": {},
   "outputs": [
    {
     "data": {
      "text/html": [
       "4.00443371312499"
      ],
      "text/latex": [
       "4.00443371312499"
      ],
      "text/markdown": [
       "4.00443371312499"
      ],
      "text/plain": [
       "[1] 4.004434"
      ]
     },
     "metadata": {},
     "output_type": "display_data"
    },
    {
     "data": {
      "text/html": [
       "8.66626637330543"
      ],
      "text/latex": [
       "8.66626637330543"
      ],
      "text/markdown": [
       "8.66626637330543"
      ],
      "text/plain": [
       "[1] 8.666266"
      ]
     },
     "metadata": {},
     "output_type": "display_data"
    }
   ],
   "source": [
    "est.b1- qt(0.975, 4) * (sqrt(ests2) / sqrt ( sxx))\n",
    "est.b1+ qt(0.975, 4) * (sqrt(ests2) / sqrt ( sxx))"
   ]
  },
  {
   "cell_type": "code",
   "execution_count": 18,
   "metadata": {},
   "outputs": [
    {
     "data": {
      "text/html": [
       "<table>\n",
       "<thead><tr><th></th><th scope=col>2.5 %</th><th scope=col>97.5 %</th></tr></thead>\n",
       "<tbody>\n",
       "\t<tr><th scope=row>(Intercept)</th><td>77.869064</td><td>94.872509</td></tr>\n",
       "\t<tr><th scope=row>sal</th><td> 4.004434</td><td> 8.666266</td></tr>\n",
       "</tbody>\n",
       "</table>\n"
      ],
      "text/latex": [
       "\\begin{tabular}{r|ll}\n",
       "  & 2.5 \\% & 97.5 \\%\\\\\n",
       "\\hline\n",
       "\t(Intercept) & 77.869064 & 94.872509\\\\\n",
       "\tsal &  4.004434 &  8.666266\\\\\n",
       "\\end{tabular}\n"
      ],
      "text/markdown": [
       "\n",
       "| <!--/--> | 2.5 % | 97.5 % |\n",
       "|---|---|---|\n",
       "| (Intercept) | 77.869064 | 94.872509 |\n",
       "| sal |  4.004434 |  8.666266 |\n",
       "\n"
      ],
      "text/plain": [
       "            2.5 %     97.5 %   \n",
       "(Intercept) 77.869064 94.872509\n",
       "sal          4.004434  8.666266"
      ]
     },
     "metadata": {},
     "output_type": "display_data"
    }
   ],
   "source": [
    "confint(regresion, level=0.95)"
   ]
  },
  {
   "cell_type": "markdown",
   "metadata": {},
   "source": [
    "## Intervalo de confianza para la media de x "
   ]
  },
  {
   "cell_type": "code",
   "execution_count": 19,
   "metadata": {
    "scrolled": true
   },
   "outputs": [
    {
     "data": {
      "text/html": [
       "99.8410160075583"
      ],
      "text/latex": [
       "99.8410160075583"
      ],
      "text/markdown": [
       "99.8410160075583"
      ],
      "text/plain": [
       "[1] 99.84102"
      ]
     },
     "metadata": {},
     "output_type": "display_data"
    },
    {
     "data": {
      "text/html": [
       "113.825650659108"
      ],
      "text/latex": [
       "113.825650659108"
      ],
      "text/markdown": [
       "113.825650659108"
      ],
      "text/plain": [
       "[1] 113.8257"
      ]
     },
     "metadata": {},
     "output_type": "display_data"
    }
   ],
   "source": [
    "y_gorro  <- 85.0056179775281  + 6.29645635263612 *mean(sal)\n",
    "y_gorro - qt(0.975, 4) * sqrt(ests2) * sqrt((1+(1/nrow(df))))\n",
    "y_gorro + qt(0.975, 4) * sqrt(ests2) * sqrt((1+(1/nrow(df))))"
   ]
  },
  {
   "cell_type": "code",
   "execution_count": 20,
   "metadata": {},
   "outputs": [
    {
     "data": {
      "text/html": [
       "2.22813885198627"
      ],
      "text/latex": [
       "2.22813885198627"
      ],
      "text/markdown": [
       "2.22813885198627"
      ],
      "text/plain": [
       "[1] 2.228139"
      ]
     },
     "metadata": {},
     "output_type": "display_data"
    }
   ],
   "source": [
    "qt(0.975, 10)"
   ]
  },
  {
   "cell_type": "code",
   "execution_count": 21,
   "metadata": {},
   "outputs": [
    {
     "data": {
      "text/html": [
       "106.833333333333"
      ],
      "text/latex": [
       "106.833333333333"
      ],
      "text/markdown": [
       "106.833333333333"
      ],
      "text/plain": [
       "[1] 106.8333"
      ]
     },
     "metadata": {},
     "output_type": "display_data"
    }
   ],
   "source": [
    "y_gorro"
   ]
  },
  {
   "cell_type": "markdown",
   "metadata": {},
   "source": [
    "## pregunta 2 "
   ]
  },
  {
   "cell_type": "code",
   "execution_count": 22,
   "metadata": {},
   "outputs": [],
   "source": [
    "y <- c(3.1,1.9,1.7,1.6,3.2,2.7,2.6,2.9,4.7,3.8)\n",
    "x1 <-c(113,123,127,138,130,146,151,152,141,159)\n",
    "x2 <- c(1,2,3,4,5,6,7,8,9,10)"
   ]
  },
  {
   "cell_type": "code",
   "execution_count": 23,
   "metadata": {
    "scrolled": true
   },
   "outputs": [
    {
     "data": {
      "text/html": [
       "<table>\n",
       "<thead><tr><th scope=col>y</th><th scope=col>x1</th><th scope=col>x2</th></tr></thead>\n",
       "<tbody>\n",
       "\t<tr><td>3.1</td><td>113</td><td> 1 </td></tr>\n",
       "\t<tr><td>1.9</td><td>123</td><td> 2 </td></tr>\n",
       "\t<tr><td>1.7</td><td>127</td><td> 3 </td></tr>\n",
       "\t<tr><td>1.6</td><td>138</td><td> 4 </td></tr>\n",
       "\t<tr><td>3.2</td><td>130</td><td> 5 </td></tr>\n",
       "\t<tr><td>2.7</td><td>146</td><td> 6 </td></tr>\n",
       "\t<tr><td>2.6</td><td>151</td><td> 7 </td></tr>\n",
       "\t<tr><td>2.9</td><td>152</td><td> 8 </td></tr>\n",
       "\t<tr><td>4.7</td><td>141</td><td> 9 </td></tr>\n",
       "\t<tr><td>3.8</td><td>159</td><td>10 </td></tr>\n",
       "</tbody>\n",
       "</table>\n"
      ],
      "text/latex": [
       "\\begin{tabular}{r|lll}\n",
       " y & x1 & x2\\\\\n",
       "\\hline\n",
       "\t 3.1 & 113 &  1 \\\\\n",
       "\t 1.9 & 123 &  2 \\\\\n",
       "\t 1.7 & 127 &  3 \\\\\n",
       "\t 1.6 & 138 &  4 \\\\\n",
       "\t 3.2 & 130 &  5 \\\\\n",
       "\t 2.7 & 146 &  6 \\\\\n",
       "\t 2.6 & 151 &  7 \\\\\n",
       "\t 2.9 & 152 &  8 \\\\\n",
       "\t 4.7 & 141 &  9 \\\\\n",
       "\t 3.8 & 159 & 10 \\\\\n",
       "\\end{tabular}\n"
      ],
      "text/markdown": [
       "\n",
       "| y | x1 | x2 |\n",
       "|---|---|---|\n",
       "| 3.1 | 113 |  1  |\n",
       "| 1.9 | 123 |  2  |\n",
       "| 1.7 | 127 |  3  |\n",
       "| 1.6 | 138 |  4  |\n",
       "| 3.2 | 130 |  5  |\n",
       "| 2.7 | 146 |  6  |\n",
       "| 2.6 | 151 |  7  |\n",
       "| 2.9 | 152 |  8  |\n",
       "| 4.7 | 141 |  9  |\n",
       "| 3.8 | 159 | 10  |\n",
       "\n"
      ],
      "text/plain": [
       "   y   x1  x2\n",
       "1  3.1 113  1\n",
       "2  1.9 123  2\n",
       "3  1.7 127  3\n",
       "4  1.6 138  4\n",
       "5  3.2 130  5\n",
       "6  2.7 146  6\n",
       "7  2.6 151  7\n",
       "8  2.9 152  8\n",
       "9  4.7 141  9\n",
       "10 3.8 159 10"
      ]
     },
     "metadata": {},
     "output_type": "display_data"
    }
   ],
   "source": [
    "pregunta2 <-data.frame(\n",
    "\"y\" = y,\n",
    "\"x1\"=x1,\n",
    "\"x2\"=x2)\n",
    "pregunta2\n"
   ]
  },
  {
   "cell_type": "code",
   "execution_count": 24,
   "metadata": {},
   "outputs": [
    {
     "data": {
      "text/plain": [
       "\n",
       "Call:\n",
       "lm(formula = y ~ x1 + x2, data = pregunta2)\n",
       "\n",
       "Coefficients:\n",
       "(Intercept)           x1           x2  \n",
       "    13.4539      -0.1033       0.6594  \n"
      ]
     },
     "metadata": {},
     "output_type": "display_data"
    }
   ],
   "source": [
    "regresion2 <- lm(y ~ x1+x2,data=pregunta2)\n",
    "regresion2"
   ]
  },
  {
   "cell_type": "code",
   "execution_count": 25,
   "metadata": {},
   "outputs": [
    {
     "data": {
      "text/html": [
       "<table>\n",
       "<tbody>\n",
       "\t<tr><td>3.1</td></tr>\n",
       "\t<tr><td>1.9</td></tr>\n",
       "\t<tr><td>1.7</td></tr>\n",
       "\t<tr><td>1.6</td></tr>\n",
       "\t<tr><td>3.2</td></tr>\n",
       "\t<tr><td>2.7</td></tr>\n",
       "\t<tr><td>2.6</td></tr>\n",
       "\t<tr><td>2.9</td></tr>\n",
       "\t<tr><td>4.7</td></tr>\n",
       "\t<tr><td>3.8</td></tr>\n",
       "</tbody>\n",
       "</table>\n"
      ],
      "text/latex": [
       "\\begin{tabular}{l}\n",
       "\t 3.1\\\\\n",
       "\t 1.9\\\\\n",
       "\t 1.7\\\\\n",
       "\t 1.6\\\\\n",
       "\t 3.2\\\\\n",
       "\t 2.7\\\\\n",
       "\t 2.6\\\\\n",
       "\t 2.9\\\\\n",
       "\t 4.7\\\\\n",
       "\t 3.8\\\\\n",
       "\\end{tabular}\n"
      ],
      "text/markdown": [
       "\n",
       "| 3.1 |\n",
       "| 1.9 |\n",
       "| 1.7 |\n",
       "| 1.6 |\n",
       "| 3.2 |\n",
       "| 2.7 |\n",
       "| 2.6 |\n",
       "| 2.9 |\n",
       "| 4.7 |\n",
       "| 3.8 |\n",
       "\n"
      ],
      "text/plain": [
       "      [,1]\n",
       " [1,] 3.1 \n",
       " [2,] 1.9 \n",
       " [3,] 1.7 \n",
       " [4,] 1.6 \n",
       " [5,] 3.2 \n",
       " [6,] 2.7 \n",
       " [7,] 2.6 \n",
       " [8,] 2.9 \n",
       " [9,] 4.7 \n",
       "[10,] 3.8 "
      ]
     },
     "metadata": {},
     "output_type": "display_data"
    }
   ],
   "source": [
    "Y <- matrix (y)\n",
    "X <- matrix (1, 10)\n",
    "X <- cbind (X , x1, x2)\n",
    "Y"
   ]
  },
  {
   "cell_type": "code",
   "execution_count": 26,
   "metadata": {},
   "outputs": [
    {
     "data": {
      "text/plain": [
       "            Df Sum Sq Mean Sq F value   Pr(>F)    \n",
       "x1           1  0.819   0.819   5.092 0.058623 .  \n",
       "x2           1  6.430   6.430  39.968 0.000396 ***\n",
       "Residuals    7  1.126   0.161                     \n",
       "---\n",
       "Signif. codes:  0 '***' 0.001 '**' 0.01 '*' 0.05 '.' 0.1 ' ' 1"
      ]
     },
     "metadata": {},
     "output_type": "display_data"
    }
   ],
   "source": [
    "anova2 <- aov(regresion2)\n",
    "summary(anova2)"
   ]
  },
  {
   "cell_type": "code",
   "execution_count": 27,
   "metadata": {},
   "outputs": [
    {
     "data": {
      "image/png": "[encoded data removed]",
      "text/plain": [
       "Plot with title \"Histogram of residuals(regresion2)\""
      ]
     },
     "metadata": {},
     "output_type": "display_data"
    }
   ],
   "source": [
    "hist(residuals(regresion2))"
   ]
  },
  {
   "cell_type": "code",
   "execution_count": 28,
   "metadata": {},
   "outputs": [
    {
     "data": {
      "text/html": [
       "<table>\n",
       "<thead><tr><th></th><th scope=col>y</th><th scope=col>x1</th><th scope=col>x2</th></tr></thead>\n",
       "<tbody>\n",
       "\t<tr><th scope=row>y</th><td>1.0000000</td><td>0.3127562</td><td>0.6543094</td></tr>\n",
       "\t<tr><th scope=row>x1</th><td>0.3127562</td><td>1.0000000</td><td>0.9059507</td></tr>\n",
       "\t<tr><th scope=row>x2</th><td>0.6543094</td><td>0.9059507</td><td>1.0000000</td></tr>\n",
       "</tbody>\n",
       "</table>\n"
      ],
      "text/latex": [
       "\\begin{tabular}{r|lll}\n",
       "  & y & x1 & x2\\\\\n",
       "\\hline\n",
       "\ty & 1.0000000 & 0.3127562 & 0.6543094\\\\\n",
       "\tx1 & 0.3127562 & 1.0000000 & 0.9059507\\\\\n",
       "\tx2 & 0.6543094 & 0.9059507 & 1.0000000\\\\\n",
       "\\end{tabular}\n"
      ],
      "text/markdown": [
       "\n",
       "| <!--/--> | y | x1 | x2 |\n",
       "|---|---|---|---|\n",
       "| y | 1.0000000 | 0.3127562 | 0.6543094 |\n",
       "| x1 | 0.3127562 | 1.0000000 | 0.9059507 |\n",
       "| x2 | 0.6543094 | 0.9059507 | 1.0000000 |\n",
       "\n"
      ],
      "text/plain": [
       "   y         x1        x2       \n",
       "y  1.0000000 0.3127562 0.6543094\n",
       "x1 0.3127562 1.0000000 0.9059507\n",
       "x2 0.6543094 0.9059507 1.0000000"
      ]
     },
     "metadata": {},
     "output_type": "display_data"
    }
   ],
   "source": [
    "cor(pregunta2)"
   ]
  },
  {
   "cell_type": "code",
   "execution_count": 29,
   "metadata": {},
   "outputs": [
    {
     "data": {
      "text/plain": [
       "\n",
       "\tDurbin-Watson test\n",
       "\n",
       "data:  regresion2\n",
       "DW = 1.3279, p-value = 0.09625\n",
       "alternative hypothesis: true autocorrelation is not 0\n"
      ]
     },
     "metadata": {},
     "output_type": "display_data"
    }
   ],
   "source": [
    "dwtest(regresion2 , alternative =\"two.sided\")"
   ]
  },
  {
   "cell_type": "code",
   "execution_count": 30,
   "metadata": {},
   "outputs": [
    {
     "data": {
      "text/html": [
       "8.375"
      ],
      "text/latex": [
       "8.375"
      ],
      "text/markdown": [
       "8.375"
      ],
      "text/plain": [
       "[1] 8.375"
      ]
     },
     "metadata": {},
     "output_type": "display_data"
    }
   ],
   "source": [
    "1.126+ 6.430 + 0.819"
   ]
  }
 ],
 "metadata": {
  "kernelspec": {
   "display_name": "R",
   "language": "R",
   "name": "ir"
  },
  "language_info": {
   "codemirror_mode": "r",
   "file_extension": ".r",
   "mimetype": "text/x-r-source",
   "name": "R",
   "pygments_lexer": "r",
   "version": "3.6.1"
  }
 },
 "nbformat": 4,
 "nbformat_minor": 4
}
