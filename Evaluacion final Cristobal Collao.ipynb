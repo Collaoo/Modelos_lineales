{
 "cells": [
  {
   "cell_type": "code",
   "execution_count": 4,
   "metadata": {},
   "outputs": [
    {
     "name": "stderr",
     "output_type": "stream",
     "text": [
      "Warning message:\n",
      "\"package 'dplyr' was built under R version 3.6.3\"\n",
      "Attaching package: 'dplyr'\n",
      "\n",
      "The following objects are masked from 'package:stats':\n",
      "\n",
      "    filter, lag\n",
      "\n",
      "The following objects are masked from 'package:base':\n",
      "\n",
      "    intersect, setdiff, setequal, union\n",
      "\n",
      "Warning message:\n",
      "\"package 'ggplot2' was built under R version 3.6.3\"Warning message:\n",
      "\"package 'ISLR' was built under R version 3.6.3\""
     ]
    }
   ],
   "source": [
    "library(readxl)\n",
    "library(dplyr)\n",
    "library(ggplot2)\n",
    "library(ISLR)\n",
    "library(dplyr)"
   ]
  },
  {
   "cell_type": "markdown",
   "metadata": {},
   "source": [
    "# Trabajo final \n",
    "## Cristóbal Collao\n",
    "## Modelo lineales\n",
    "### Fecha: 12-07-2021\n",
    "\n",
    "Considere los datos anexos entregados en la tabla de Excel “Datos para evaluación final”.\n",
    "Estos corresponden a la evaluación de 32 individuos en una asignatura en la cual se les\n",
    "calificaba inicialmente mediante un examen de conocimientos previos, y luego, después\n",
    "de un tiempo de clases, se tomaron una serie de evaluaciones parciales en donde se\n",
    "registraron las calificaciones promedios obtenidas por cada individuo. Por otra parte, un\n",
    "grupo de ellos siguió una metodología de enseñanza (digamos, 1), y el otro, otra distinta\n",
    "(digamos, 0). La evaluación final está categorizada como 1, si el individuo obtuvo dentro\n",
    "del rango de calificación máxima, y 0 en otro caso. \\\n",
    "El objetivo es evaluar la incidencia de las calificaciones registradas y el método de\n",
    "enseñanza en la calificación final. Para ello, realice lo siguiente: \\\n",
    "#### 1)Plantee un modelo de regresión logística, estime sus parámetros vía estimación de máxima verosimilitud, describiendo el algoritmo numérico a utilizar para aproximar estos, especificando las funciones involucradas en el proceso iterativo."
   ]
  },
  {
   "cell_type": "markdown",
   "metadata": {},
   "source": [
    "Primero partirimos leyendo los datos y guardándolos en la variable data y cambiandole los nombres a las variables para manejarlas más facilmente"
   ]
  },
  {
   "cell_type": "code",
   "execution_count": 5,
   "metadata": {
    "scrolled": true
   },
   "outputs": [
    {
     "data": {
      "text/html": [
       "<table class=\"dataframe\">\n",
       "<caption>A data.frame: 32 × 5</caption>\n",
       "<thead>\n",
       "\t<tr><th scope=col>Observaciones</th><th scope=col>Calificaciones de  conocimientos previos</th><th scope=col>Promedio de calificaciones iniciales</th><th scope=col>Método de enseñanza</th><th scope=col>Calificación final</th></tr>\n",
       "\t<tr><th scope=col>&lt;dbl&gt;</th><th scope=col>&lt;dbl&gt;</th><th scope=col>&lt;dbl&gt;</th><th scope=col>&lt;dbl&gt;</th><th scope=col>&lt;dbl&gt;</th></tr>\n",
       "</thead>\n",
       "<tbody>\n",
       "\t<tr><td> 1</td><td>20</td><td>2.66</td><td>0</td><td>0</td></tr>\n",
       "\t<tr><td> 2</td><td>22</td><td>2.89</td><td>0</td><td>0</td></tr>\n",
       "\t<tr><td> 3</td><td>24</td><td>3.28</td><td>0</td><td>0</td></tr>\n",
       "\t<tr><td> 4</td><td>12</td><td>2.92</td><td>0</td><td>0</td></tr>\n",
       "\t<tr><td> 5</td><td>21</td><td>4.00</td><td>0</td><td>1</td></tr>\n",
       "\t<tr><td> 6</td><td>17</td><td>2.86</td><td>0</td><td>0</td></tr>\n",
       "\t<tr><td> 7</td><td>17</td><td>2.76</td><td>0</td><td>0</td></tr>\n",
       "\t<tr><td> 8</td><td>21</td><td>2.87</td><td>0</td><td>0</td></tr>\n",
       "\t<tr><td> 9</td><td>25</td><td>3.03</td><td>0</td><td>0</td></tr>\n",
       "\t<tr><td>10</td><td>29</td><td>3.92</td><td>0</td><td>1</td></tr>\n",
       "\t<tr><td>11</td><td>20</td><td>2.63</td><td>0</td><td>0</td></tr>\n",
       "\t<tr><td>12</td><td>23</td><td>3.32</td><td>0</td><td>0</td></tr>\n",
       "\t<tr><td>13</td><td>23</td><td>3.57</td><td>0</td><td>0</td></tr>\n",
       "\t<tr><td>14</td><td>25</td><td>3.26</td><td>0</td><td>1</td></tr>\n",
       "\t<tr><td>15</td><td>26</td><td>3.53</td><td>0</td><td>0</td></tr>\n",
       "\t<tr><td>16</td><td>19</td><td>2.74</td><td>0</td><td>0</td></tr>\n",
       "\t<tr><td>17</td><td>25</td><td>2.75</td><td>0</td><td>0</td></tr>\n",
       "\t<tr><td>18</td><td>19</td><td>2.83</td><td>0</td><td>0</td></tr>\n",
       "\t<tr><td>19</td><td>23</td><td>3.12</td><td>1</td><td>0</td></tr>\n",
       "\t<tr><td>20</td><td>25</td><td>3.16</td><td>1</td><td>1</td></tr>\n",
       "\t<tr><td>21</td><td>22</td><td>2.06</td><td>1</td><td>0</td></tr>\n",
       "\t<tr><td>22</td><td>28</td><td>3.62</td><td>1</td><td>1</td></tr>\n",
       "\t<tr><td>23</td><td>14</td><td>2.89</td><td>1</td><td>0</td></tr>\n",
       "\t<tr><td>24</td><td>26</td><td>3.51</td><td>1</td><td>0</td></tr>\n",
       "\t<tr><td>25</td><td>24</td><td>3.54</td><td>1</td><td>1</td></tr>\n",
       "\t<tr><td>26</td><td>27</td><td>2.83</td><td>1</td><td>1</td></tr>\n",
       "\t<tr><td>27</td><td>17</td><td>3.39</td><td>1</td><td>1</td></tr>\n",
       "\t<tr><td>28</td><td>24</td><td>2.67</td><td>1</td><td>0</td></tr>\n",
       "\t<tr><td>29</td><td>21</td><td>3.65</td><td>1</td><td>1</td></tr>\n",
       "\t<tr><td>30</td><td>23</td><td>4.00</td><td>1</td><td>1</td></tr>\n",
       "\t<tr><td>31</td><td>21</td><td>3.10</td><td>1</td><td>0</td></tr>\n",
       "\t<tr><td>32</td><td>19</td><td>2.39</td><td>1</td><td>1</td></tr>\n",
       "</tbody>\n",
       "</table>\n"
      ],
      "text/latex": [
       "A data.frame: 32 × 5\n",
       "\\begin{tabular}{lllll}\n",
       " Observaciones & Calificaciones de  conocimientos previos & Promedio de calificaciones iniciales & Método de enseñanza & Calificación final\\\\\n",
       " <dbl> & <dbl> & <dbl> & <dbl> & <dbl>\\\\\n",
       "\\hline\n",
       "\t  1 & 20 & 2.66 & 0 & 0\\\\\n",
       "\t  2 & 22 & 2.89 & 0 & 0\\\\\n",
       "\t  3 & 24 & 3.28 & 0 & 0\\\\\n",
       "\t  4 & 12 & 2.92 & 0 & 0\\\\\n",
       "\t  5 & 21 & 4.00 & 0 & 1\\\\\n",
       "\t  6 & 17 & 2.86 & 0 & 0\\\\\n",
       "\t  7 & 17 & 2.76 & 0 & 0\\\\\n",
       "\t  8 & 21 & 2.87 & 0 & 0\\\\\n",
       "\t  9 & 25 & 3.03 & 0 & 0\\\\\n",
       "\t 10 & 29 & 3.92 & 0 & 1\\\\\n",
       "\t 11 & 20 & 2.63 & 0 & 0\\\\\n",
       "\t 12 & 23 & 3.32 & 0 & 0\\\\\n",
       "\t 13 & 23 & 3.57 & 0 & 0\\\\\n",
       "\t 14 & 25 & 3.26 & 0 & 1\\\\\n",
       "\t 15 & 26 & 3.53 & 0 & 0\\\\\n",
       "\t 16 & 19 & 2.74 & 0 & 0\\\\\n",
       "\t 17 & 25 & 2.75 & 0 & 0\\\\\n",
       "\t 18 & 19 & 2.83 & 0 & 0\\\\\n",
       "\t 19 & 23 & 3.12 & 1 & 0\\\\\n",
       "\t 20 & 25 & 3.16 & 1 & 1\\\\\n",
       "\t 21 & 22 & 2.06 & 1 & 0\\\\\n",
       "\t 22 & 28 & 3.62 & 1 & 1\\\\\n",
       "\t 23 & 14 & 2.89 & 1 & 0\\\\\n",
       "\t 24 & 26 & 3.51 & 1 & 0\\\\\n",
       "\t 25 & 24 & 3.54 & 1 & 1\\\\\n",
       "\t 26 & 27 & 2.83 & 1 & 1\\\\\n",
       "\t 27 & 17 & 3.39 & 1 & 1\\\\\n",
       "\t 28 & 24 & 2.67 & 1 & 0\\\\\n",
       "\t 29 & 21 & 3.65 & 1 & 1\\\\\n",
       "\t 30 & 23 & 4.00 & 1 & 1\\\\\n",
       "\t 31 & 21 & 3.10 & 1 & 0\\\\\n",
       "\t 32 & 19 & 2.39 & 1 & 1\\\\\n",
       "\\end{tabular}\n"
      ],
      "text/markdown": [
       "\n",
       "A data.frame: 32 × 5\n",
       "\n",
       "| Observaciones &lt;dbl&gt; | Calificaciones de  conocimientos previos &lt;dbl&gt; | Promedio de calificaciones iniciales &lt;dbl&gt; | Método de enseñanza &lt;dbl&gt; | Calificación final &lt;dbl&gt; |\n",
       "|---|---|---|---|---|\n",
       "|  1 | 20 | 2.66 | 0 | 0 |\n",
       "|  2 | 22 | 2.89 | 0 | 0 |\n",
       "|  3 | 24 | 3.28 | 0 | 0 |\n",
       "|  4 | 12 | 2.92 | 0 | 0 |\n",
       "|  5 | 21 | 4.00 | 0 | 1 |\n",
       "|  6 | 17 | 2.86 | 0 | 0 |\n",
       "|  7 | 17 | 2.76 | 0 | 0 |\n",
       "|  8 | 21 | 2.87 | 0 | 0 |\n",
       "|  9 | 25 | 3.03 | 0 | 0 |\n",
       "| 10 | 29 | 3.92 | 0 | 1 |\n",
       "| 11 | 20 | 2.63 | 0 | 0 |\n",
       "| 12 | 23 | 3.32 | 0 | 0 |\n",
       "| 13 | 23 | 3.57 | 0 | 0 |\n",
       "| 14 | 25 | 3.26 | 0 | 1 |\n",
       "| 15 | 26 | 3.53 | 0 | 0 |\n",
       "| 16 | 19 | 2.74 | 0 | 0 |\n",
       "| 17 | 25 | 2.75 | 0 | 0 |\n",
       "| 18 | 19 | 2.83 | 0 | 0 |\n",
       "| 19 | 23 | 3.12 | 1 | 0 |\n",
       "| 20 | 25 | 3.16 | 1 | 1 |\n",
       "| 21 | 22 | 2.06 | 1 | 0 |\n",
       "| 22 | 28 | 3.62 | 1 | 1 |\n",
       "| 23 | 14 | 2.89 | 1 | 0 |\n",
       "| 24 | 26 | 3.51 | 1 | 0 |\n",
       "| 25 | 24 | 3.54 | 1 | 1 |\n",
       "| 26 | 27 | 2.83 | 1 | 1 |\n",
       "| 27 | 17 | 3.39 | 1 | 1 |\n",
       "| 28 | 24 | 2.67 | 1 | 0 |\n",
       "| 29 | 21 | 3.65 | 1 | 1 |\n",
       "| 30 | 23 | 4.00 | 1 | 1 |\n",
       "| 31 | 21 | 3.10 | 1 | 0 |\n",
       "| 32 | 19 | 2.39 | 1 | 1 |\n",
       "\n"
      ],
      "text/plain": [
       "   Observaciones Calificaciones de  conocimientos previos\n",
       "1   1            20                                      \n",
       "2   2            22                                      \n",
       "3   3            24                                      \n",
       "4   4            12                                      \n",
       "5   5            21                                      \n",
       "6   6            17                                      \n",
       "7   7            17                                      \n",
       "8   8            21                                      \n",
       "9   9            25                                      \n",
       "10 10            29                                      \n",
       "11 11            20                                      \n",
       "12 12            23                                      \n",
       "13 13            23                                      \n",
       "14 14            25                                      \n",
       "15 15            26                                      \n",
       "16 16            19                                      \n",
       "17 17            25                                      \n",
       "18 18            19                                      \n",
       "19 19            23                                      \n",
       "20 20            25                                      \n",
       "21 21            22                                      \n",
       "22 22            28                                      \n",
       "23 23            14                                      \n",
       "24 24            26                                      \n",
       "25 25            24                                      \n",
       "26 26            27                                      \n",
       "27 27            17                                      \n",
       "28 28            24                                      \n",
       "29 29            21                                      \n",
       "30 30            23                                      \n",
       "31 31            21                                      \n",
       "32 32            19                                      \n",
       "   Promedio de calificaciones iniciales Método de enseñanza Calificación final\n",
       "1  2.66                                 0                   0                 \n",
       "2  2.89                                 0                   0                 \n",
       "3  3.28                                 0                   0                 \n",
       "4  2.92                                 0                   0                 \n",
       "5  4.00                                 0                   1                 \n",
       "6  2.86                                 0                   0                 \n",
       "7  2.76                                 0                   0                 \n",
       "8  2.87                                 0                   0                 \n",
       "9  3.03                                 0                   0                 \n",
       "10 3.92                                 0                   1                 \n",
       "11 2.63                                 0                   0                 \n",
       "12 3.32                                 0                   0                 \n",
       "13 3.57                                 0                   0                 \n",
       "14 3.26                                 0                   1                 \n",
       "15 3.53                                 0                   0                 \n",
       "16 2.74                                 0                   0                 \n",
       "17 2.75                                 0                   0                 \n",
       "18 2.83                                 0                   0                 \n",
       "19 3.12                                 1                   0                 \n",
       "20 3.16                                 1                   1                 \n",
       "21 2.06                                 1                   0                 \n",
       "22 3.62                                 1                   1                 \n",
       "23 2.89                                 1                   0                 \n",
       "24 3.51                                 1                   0                 \n",
       "25 3.54                                 1                   1                 \n",
       "26 2.83                                 1                   1                 \n",
       "27 3.39                                 1                   1                 \n",
       "28 2.67                                 1                   0                 \n",
       "29 3.65                                 1                   1                 \n",
       "30 4.00                                 1                   1                 \n",
       "31 3.10                                 1                   0                 \n",
       "32 2.39                                 1                   1                 "
      ]
     },
     "metadata": {},
     "output_type": "display_data"
    }
   ],
   "source": [
    "data<-read_excel(\"Datos para evaluación final.xlsx\")\n",
    "data<- as.data.frame(data)\n",
    "data"
   ]
  },
  {
   "cell_type": "code",
   "execution_count": 6,
   "metadata": {
    "scrolled": true
   },
   "outputs": [
    {
     "data": {
      "text/html": [
       "<table class=\"dataframe\">\n",
       "<caption>A data.frame: 32 × 5</caption>\n",
       "<thead>\n",
       "\t<tr><th scope=col>observaciones</th><th scope=col>calificacion_previos</th><th scope=col>promedio_inicial</th><th scope=col>metodo_enseñanza</th><th scope=col>calificacion_final</th></tr>\n",
       "\t<tr><th scope=col>&lt;dbl&gt;</th><th scope=col>&lt;dbl&gt;</th><th scope=col>&lt;dbl&gt;</th><th scope=col>&lt;dbl&gt;</th><th scope=col>&lt;dbl&gt;</th></tr>\n",
       "</thead>\n",
       "<tbody>\n",
       "\t<tr><td> 1</td><td>20</td><td>2.66</td><td>0</td><td>0</td></tr>\n",
       "\t<tr><td> 2</td><td>22</td><td>2.89</td><td>0</td><td>0</td></tr>\n",
       "\t<tr><td> 3</td><td>24</td><td>3.28</td><td>0</td><td>0</td></tr>\n",
       "\t<tr><td> 4</td><td>12</td><td>2.92</td><td>0</td><td>0</td></tr>\n",
       "\t<tr><td> 5</td><td>21</td><td>4.00</td><td>0</td><td>1</td></tr>\n",
       "\t<tr><td> 6</td><td>17</td><td>2.86</td><td>0</td><td>0</td></tr>\n",
       "\t<tr><td> 7</td><td>17</td><td>2.76</td><td>0</td><td>0</td></tr>\n",
       "\t<tr><td> 8</td><td>21</td><td>2.87</td><td>0</td><td>0</td></tr>\n",
       "\t<tr><td> 9</td><td>25</td><td>3.03</td><td>0</td><td>0</td></tr>\n",
       "\t<tr><td>10</td><td>29</td><td>3.92</td><td>0</td><td>1</td></tr>\n",
       "\t<tr><td>11</td><td>20</td><td>2.63</td><td>0</td><td>0</td></tr>\n",
       "\t<tr><td>12</td><td>23</td><td>3.32</td><td>0</td><td>0</td></tr>\n",
       "\t<tr><td>13</td><td>23</td><td>3.57</td><td>0</td><td>0</td></tr>\n",
       "\t<tr><td>14</td><td>25</td><td>3.26</td><td>0</td><td>1</td></tr>\n",
       "\t<tr><td>15</td><td>26</td><td>3.53</td><td>0</td><td>0</td></tr>\n",
       "\t<tr><td>16</td><td>19</td><td>2.74</td><td>0</td><td>0</td></tr>\n",
       "\t<tr><td>17</td><td>25</td><td>2.75</td><td>0</td><td>0</td></tr>\n",
       "\t<tr><td>18</td><td>19</td><td>2.83</td><td>0</td><td>0</td></tr>\n",
       "\t<tr><td>19</td><td>23</td><td>3.12</td><td>1</td><td>0</td></tr>\n",
       "\t<tr><td>20</td><td>25</td><td>3.16</td><td>1</td><td>1</td></tr>\n",
       "\t<tr><td>21</td><td>22</td><td>2.06</td><td>1</td><td>0</td></tr>\n",
       "\t<tr><td>22</td><td>28</td><td>3.62</td><td>1</td><td>1</td></tr>\n",
       "\t<tr><td>23</td><td>14</td><td>2.89</td><td>1</td><td>0</td></tr>\n",
       "\t<tr><td>24</td><td>26</td><td>3.51</td><td>1</td><td>0</td></tr>\n",
       "\t<tr><td>25</td><td>24</td><td>3.54</td><td>1</td><td>1</td></tr>\n",
       "\t<tr><td>26</td><td>27</td><td>2.83</td><td>1</td><td>1</td></tr>\n",
       "\t<tr><td>27</td><td>17</td><td>3.39</td><td>1</td><td>1</td></tr>\n",
       "\t<tr><td>28</td><td>24</td><td>2.67</td><td>1</td><td>0</td></tr>\n",
       "\t<tr><td>29</td><td>21</td><td>3.65</td><td>1</td><td>1</td></tr>\n",
       "\t<tr><td>30</td><td>23</td><td>4.00</td><td>1</td><td>1</td></tr>\n",
       "\t<tr><td>31</td><td>21</td><td>3.10</td><td>1</td><td>0</td></tr>\n",
       "\t<tr><td>32</td><td>19</td><td>2.39</td><td>1</td><td>1</td></tr>\n",
       "</tbody>\n",
       "</table>\n"
      ],
      "text/latex": [
       "A data.frame: 32 × 5\n",
       "\\begin{tabular}{lllll}\n",
       " observaciones & calificacion\\_previos & promedio\\_inicial & metodo\\_enseñanza & calificacion\\_final\\\\\n",
       " <dbl> & <dbl> & <dbl> & <dbl> & <dbl>\\\\\n",
       "\\hline\n",
       "\t  1 & 20 & 2.66 & 0 & 0\\\\\n",
       "\t  2 & 22 & 2.89 & 0 & 0\\\\\n",
       "\t  3 & 24 & 3.28 & 0 & 0\\\\\n",
       "\t  4 & 12 & 2.92 & 0 & 0\\\\\n",
       "\t  5 & 21 & 4.00 & 0 & 1\\\\\n",
       "\t  6 & 17 & 2.86 & 0 & 0\\\\\n",
       "\t  7 & 17 & 2.76 & 0 & 0\\\\\n",
       "\t  8 & 21 & 2.87 & 0 & 0\\\\\n",
       "\t  9 & 25 & 3.03 & 0 & 0\\\\\n",
       "\t 10 & 29 & 3.92 & 0 & 1\\\\\n",
       "\t 11 & 20 & 2.63 & 0 & 0\\\\\n",
       "\t 12 & 23 & 3.32 & 0 & 0\\\\\n",
       "\t 13 & 23 & 3.57 & 0 & 0\\\\\n",
       "\t 14 & 25 & 3.26 & 0 & 1\\\\\n",
       "\t 15 & 26 & 3.53 & 0 & 0\\\\\n",
       "\t 16 & 19 & 2.74 & 0 & 0\\\\\n",
       "\t 17 & 25 & 2.75 & 0 & 0\\\\\n",
       "\t 18 & 19 & 2.83 & 0 & 0\\\\\n",
       "\t 19 & 23 & 3.12 & 1 & 0\\\\\n",
       "\t 20 & 25 & 3.16 & 1 & 1\\\\\n",
       "\t 21 & 22 & 2.06 & 1 & 0\\\\\n",
       "\t 22 & 28 & 3.62 & 1 & 1\\\\\n",
       "\t 23 & 14 & 2.89 & 1 & 0\\\\\n",
       "\t 24 & 26 & 3.51 & 1 & 0\\\\\n",
       "\t 25 & 24 & 3.54 & 1 & 1\\\\\n",
       "\t 26 & 27 & 2.83 & 1 & 1\\\\\n",
       "\t 27 & 17 & 3.39 & 1 & 1\\\\\n",
       "\t 28 & 24 & 2.67 & 1 & 0\\\\\n",
       "\t 29 & 21 & 3.65 & 1 & 1\\\\\n",
       "\t 30 & 23 & 4.00 & 1 & 1\\\\\n",
       "\t 31 & 21 & 3.10 & 1 & 0\\\\\n",
       "\t 32 & 19 & 2.39 & 1 & 1\\\\\n",
       "\\end{tabular}\n"
      ],
      "text/markdown": [
       "\n",
       "A data.frame: 32 × 5\n",
       "\n",
       "| observaciones &lt;dbl&gt; | calificacion_previos &lt;dbl&gt; | promedio_inicial &lt;dbl&gt; | metodo_enseñanza &lt;dbl&gt; | calificacion_final &lt;dbl&gt; |\n",
       "|---|---|---|---|---|\n",
       "|  1 | 20 | 2.66 | 0 | 0 |\n",
       "|  2 | 22 | 2.89 | 0 | 0 |\n",
       "|  3 | 24 | 3.28 | 0 | 0 |\n",
       "|  4 | 12 | 2.92 | 0 | 0 |\n",
       "|  5 | 21 | 4.00 | 0 | 1 |\n",
       "|  6 | 17 | 2.86 | 0 | 0 |\n",
       "|  7 | 17 | 2.76 | 0 | 0 |\n",
       "|  8 | 21 | 2.87 | 0 | 0 |\n",
       "|  9 | 25 | 3.03 | 0 | 0 |\n",
       "| 10 | 29 | 3.92 | 0 | 1 |\n",
       "| 11 | 20 | 2.63 | 0 | 0 |\n",
       "| 12 | 23 | 3.32 | 0 | 0 |\n",
       "| 13 | 23 | 3.57 | 0 | 0 |\n",
       "| 14 | 25 | 3.26 | 0 | 1 |\n",
       "| 15 | 26 | 3.53 | 0 | 0 |\n",
       "| 16 | 19 | 2.74 | 0 | 0 |\n",
       "| 17 | 25 | 2.75 | 0 | 0 |\n",
       "| 18 | 19 | 2.83 | 0 | 0 |\n",
       "| 19 | 23 | 3.12 | 1 | 0 |\n",
       "| 20 | 25 | 3.16 | 1 | 1 |\n",
       "| 21 | 22 | 2.06 | 1 | 0 |\n",
       "| 22 | 28 | 3.62 | 1 | 1 |\n",
       "| 23 | 14 | 2.89 | 1 | 0 |\n",
       "| 24 | 26 | 3.51 | 1 | 0 |\n",
       "| 25 | 24 | 3.54 | 1 | 1 |\n",
       "| 26 | 27 | 2.83 | 1 | 1 |\n",
       "| 27 | 17 | 3.39 | 1 | 1 |\n",
       "| 28 | 24 | 2.67 | 1 | 0 |\n",
       "| 29 | 21 | 3.65 | 1 | 1 |\n",
       "| 30 | 23 | 4.00 | 1 | 1 |\n",
       "| 31 | 21 | 3.10 | 1 | 0 |\n",
       "| 32 | 19 | 2.39 | 1 | 1 |\n",
       "\n"
      ],
      "text/plain": [
       "   observaciones calificacion_previos promedio_inicial metodo_enseñanza\n",
       "1   1            20                   2.66             0               \n",
       "2   2            22                   2.89             0               \n",
       "3   3            24                   3.28             0               \n",
       "4   4            12                   2.92             0               \n",
       "5   5            21                   4.00             0               \n",
       "6   6            17                   2.86             0               \n",
       "7   7            17                   2.76             0               \n",
       "8   8            21                   2.87             0               \n",
       "9   9            25                   3.03             0               \n",
       "10 10            29                   3.92             0               \n",
       "11 11            20                   2.63             0               \n",
       "12 12            23                   3.32             0               \n",
       "13 13            23                   3.57             0               \n",
       "14 14            25                   3.26             0               \n",
       "15 15            26                   3.53             0               \n",
       "16 16            19                   2.74             0               \n",
       "17 17            25                   2.75             0               \n",
       "18 18            19                   2.83             0               \n",
       "19 19            23                   3.12             1               \n",
       "20 20            25                   3.16             1               \n",
       "21 21            22                   2.06             1               \n",
       "22 22            28                   3.62             1               \n",
       "23 23            14                   2.89             1               \n",
       "24 24            26                   3.51             1               \n",
       "25 25            24                   3.54             1               \n",
       "26 26            27                   2.83             1               \n",
       "27 27            17                   3.39             1               \n",
       "28 28            24                   2.67             1               \n",
       "29 29            21                   3.65             1               \n",
       "30 30            23                   4.00             1               \n",
       "31 31            21                   3.10             1               \n",
       "32 32            19                   2.39             1               \n",
       "   calificacion_final\n",
       "1  0                 \n",
       "2  0                 \n",
       "3  0                 \n",
       "4  0                 \n",
       "5  1                 \n",
       "6  0                 \n",
       "7  0                 \n",
       "8  0                 \n",
       "9  0                 \n",
       "10 1                 \n",
       "11 0                 \n",
       "12 0                 \n",
       "13 0                 \n",
       "14 1                 \n",
       "15 0                 \n",
       "16 0                 \n",
       "17 0                 \n",
       "18 0                 \n",
       "19 0                 \n",
       "20 1                 \n",
       "21 0                 \n",
       "22 1                 \n",
       "23 0                 \n",
       "24 0                 \n",
       "25 1                 \n",
       "26 1                 \n",
       "27 1                 \n",
       "28 0                 \n",
       "29 1                 \n",
       "30 1                 \n",
       "31 0                 \n",
       "32 1                 "
      ]
     },
     "metadata": {},
     "output_type": "display_data"
    }
   ],
   "source": [
    "names(data)<- c(\"observaciones\",\"calificacion_previos\",\"promedio_inicial\",\"metodo_enseñanza\",\"calificacion_final\")\n",
    "data"
   ]
  },
  {
   "cell_type": "markdown",
   "metadata": {},
   "source": [
    "Lo siguiente será crear el modelo con la función glm, en este caso se toman las 3 variables explicativas y la variable de respuesta será calificacion_final, además se imprime un resumen del modelo"
   ]
  },
  {
   "cell_type": "code",
   "execution_count": 8,
   "metadata": {
    "scrolled": true
   },
   "outputs": [
    {
     "data": {
      "text/plain": [
       "\n",
       "Call:\n",
       "glm(formula = calificacion_final ~ calificacion_previos + promedio_inicial + \n",
       "    metodo_enseñanza, family = binomial, data = data)\n",
       "\n",
       "Deviance Residuals: \n",
       "    Min       1Q   Median       3Q      Max  \n",
       "-1.9551  -0.6453  -0.2570   0.5888   2.0966  \n",
       "\n",
       "Coefficients:\n",
       "                      Estimate Std. Error z value Pr(>|z|)   \n",
       "(Intercept)          -13.02135    4.93127  -2.641  0.00828 **\n",
       "calificacion_previos   0.09516    0.14155   0.672  0.50143   \n",
       "promedio_inicial       2.82611    1.26293   2.238  0.02524 * \n",
       "metodo_enseñanza       2.37869    1.06456   2.234  0.02545 * \n",
       "---\n",
       "Signif. codes:  0 '***' 0.001 '**' 0.01 '*' 0.05 '.' 0.1 ' ' 1\n",
       "\n",
       "(Dispersion parameter for binomial family taken to be 1)\n",
       "\n",
       "    Null deviance: 41.183  on 31  degrees of freedom\n",
       "Residual deviance: 25.779  on 28  degrees of freedom\n",
       "AIC: 33.779\n",
       "\n",
       "Number of Fisher Scoring iterations: 5\n"
      ]
     },
     "metadata": {},
     "output_type": "display_data"
    }
   ],
   "source": [
    "modelo <- glm(calificacion_final ~ calificacion_previos +\n",
    "                   promedio_inicial +\n",
    "                   metodo_enseñanza , data = data, family=binomial)\n",
    "summary(modelo)"
   ]
  },
  {
   "cell_type": "markdown",
   "metadata": {},
   "source": [
    "Y en la siguiente celda se imprimen los coeficientes del modelo"
   ]
  },
  {
   "cell_type": "code",
   "execution_count": 9,
   "metadata": {
    "scrolled": true
   },
   "outputs": [
    {
     "data": {
      "text/html": [
       "<style>\n",
       ".list-inline {list-style: none; margin:0; padding: 0}\n",
       ".list-inline>li {display: inline-block}\n",
       ".list-inline>li:not(:last-child)::after {content: \"\\00b7\"; padding: 0 .5ex}\n",
       "</style>\n",
       "<ol class=list-inline><li>-13.0213468563076</li><li>0.0951576612956503</li><li>2.82611259455938</li><li>2.3786876548125</li></ol>\n"
      ],
      "text/latex": [
       "\\begin{enumerate*}\n",
       "\\item -13.0213468563076\n",
       "\\item 0.0951576612956503\n",
       "\\item 2.82611259455938\n",
       "\\item 2.3786876548125\n",
       "\\end{enumerate*}\n"
      ],
      "text/markdown": [
       "1. -13.0213468563076\n",
       "2. 0.0951576612956503\n",
       "3. 2.82611259455938\n",
       "4. 2.3786876548125\n",
       "\n",
       "\n"
      ],
      "text/plain": [
       "[1] -13.02134686   0.09515766   2.82611259   2.37868765"
      ]
     },
     "metadata": {},
     "output_type": "display_data"
    }
   ],
   "source": [
    "m = 32 \n",
    "coef<-as.vector(coef(modelo))\n",
    "coef"
   ]
  },
  {
   "cell_type": "markdown",
   "metadata": {},
   "source": [
    "#### 2)Estime la matriz de varianzas/covarianzas de los estimadores, y concluya si los predictores son individualmente significativos, utilizando el estadístico Z usual, con alfa=0,05."
   ]
  },
  {
   "cell_type": "code",
   "execution_count": 10,
   "metadata": {},
   "outputs": [
    {
     "data": {
      "text/html": [
       "<table class=\"dataframe\">\n",
       "<caption>A data.frame: 4 × 4</caption>\n",
       "<thead>\n",
       "\t<tr><th></th><th scope=col>cov.unscaled..Intercept.</th><th scope=col>cov.unscaled.calificacion_previos</th><th scope=col>cov.unscaled.promedio_inicial</th><th scope=col>cov.unscaled.metodo_enseñanza</th></tr>\n",
       "\t<tr><th></th><th scope=col>&lt;dbl&gt;</th><th scope=col>&lt;dbl&gt;</th><th scope=col>&lt;dbl&gt;</th><th scope=col>&lt;dbl&gt;</th></tr>\n",
       "</thead>\n",
       "<tbody>\n",
       "\t<tr><th scope=row>(Intercept)</th><td>24.3174487</td><td>-0.34624889</td><td>-4.57338640</td><td>-2.35909128</td></tr>\n",
       "\t<tr><th scope=row>calificacion_previos</th><td>-0.3462489</td><td> 0.02003740</td><td>-0.03692112</td><td> 0.01491196</td></tr>\n",
       "\t<tr><th scope=row>promedio_inicial</th><td>-4.5733864</td><td>-0.03692112</td><td> 1.59499873</td><td> 0.42760245</td></tr>\n",
       "\t<tr><th scope=row>metodo_enseñanza</th><td>-2.3590913</td><td> 0.01491196</td><td> 0.42760245</td><td> 1.13328133</td></tr>\n",
       "</tbody>\n",
       "</table>\n"
      ],
      "text/latex": [
       "A data.frame: 4 × 4\n",
       "\\begin{tabular}{r|llll}\n",
       "  & cov.unscaled..Intercept. & cov.unscaled.calificacion\\_previos & cov.unscaled.promedio\\_inicial & cov.unscaled.metodo\\_enseñanza\\\\\n",
       "  & <dbl> & <dbl> & <dbl> & <dbl>\\\\\n",
       "\\hline\n",
       "\t(Intercept) & 24.3174487 & -0.34624889 & -4.57338640 & -2.35909128\\\\\n",
       "\tcalificacion\\_previos & -0.3462489 &  0.02003740 & -0.03692112 &  0.01491196\\\\\n",
       "\tpromedio\\_inicial & -4.5733864 & -0.03692112 &  1.59499873 &  0.42760245\\\\\n",
       "\tmetodo\\_enseñanza & -2.3590913 &  0.01491196 &  0.42760245 &  1.13328133\\\\\n",
       "\\end{tabular}\n"
      ],
      "text/markdown": [
       "\n",
       "A data.frame: 4 × 4\n",
       "\n",
       "| <!--/--> | cov.unscaled..Intercept. &lt;dbl&gt; | cov.unscaled.calificacion_previos &lt;dbl&gt; | cov.unscaled.promedio_inicial &lt;dbl&gt; | cov.unscaled.metodo_enseñanza &lt;dbl&gt; |\n",
       "|---|---|---|---|---|\n",
       "| (Intercept) | 24.3174487 | -0.34624889 | -4.57338640 | -2.35909128 |\n",
       "| calificacion_previos | -0.3462489 |  0.02003740 | -0.03692112 |  0.01491196 |\n",
       "| promedio_inicial | -4.5733864 | -0.03692112 |  1.59499873 |  0.42760245 |\n",
       "| metodo_enseñanza | -2.3590913 |  0.01491196 |  0.42760245 |  1.13328133 |\n",
       "\n"
      ],
      "text/plain": [
       "                     cov.unscaled..Intercept. cov.unscaled.calificacion_previos\n",
       "(Intercept)          24.3174487               -0.34624889                      \n",
       "calificacion_previos -0.3462489                0.02003740                      \n",
       "promedio_inicial     -4.5733864               -0.03692112                      \n",
       "metodo_enseñanza     -2.3590913                0.01491196                      \n",
       "                     cov.unscaled.promedio_inicial\n",
       "(Intercept)          -4.57338640                  \n",
       "calificacion_previos -0.03692112                  \n",
       "promedio_inicial      1.59499873                  \n",
       "metodo_enseñanza      0.42760245                  \n",
       "                     cov.unscaled.metodo_enseñanza\n",
       "(Intercept)          -2.35909128                  \n",
       "calificacion_previos  0.01491196                  \n",
       "promedio_inicial      0.42760245                  \n",
       "metodo_enseñanza      1.13328133                  "
      ]
     },
     "metadata": {},
     "output_type": "display_data"
    }
   ],
   "source": [
    "varycov<-as.data.frame(summary(modelo)[16])\n",
    "varycov"
   ]
  },
  {
   "cell_type": "code",
   "execution_count": 11,
   "metadata": {},
   "outputs": [
    {
     "data": {
      "text/html": [
       "<table class=\"dataframe\">\n",
       "<caption>A data.frame: 1 × 4</caption>\n",
       "<thead>\n",
       "\t<tr><th></th><th scope=col>coefficients.Estimate</th><th scope=col>coefficients.Std..Error</th><th scope=col>coefficients.z.value</th><th scope=col>coefficients.Pr...z..</th></tr>\n",
       "\t<tr><th></th><th scope=col>&lt;dbl&gt;</th><th scope=col>&lt;dbl&gt;</th><th scope=col>&lt;dbl&gt;</th><th scope=col>&lt;dbl&gt;</th></tr>\n",
       "</thead>\n",
       "<tbody>\n",
       "\t<tr><th scope=row>calificacion_previos</th><td>0.09515766</td><td>0.1415535</td><td>0.6722381</td><td>0.5014321</td></tr>\n",
       "</tbody>\n",
       "</table>\n"
      ],
      "text/latex": [
       "A data.frame: 1 × 4\n",
       "\\begin{tabular}{r|llll}\n",
       "  & coefficients.Estimate & coefficients.Std..Error & coefficients.z.value & coefficients.Pr...z..\\\\\n",
       "  & <dbl> & <dbl> & <dbl> & <dbl>\\\\\n",
       "\\hline\n",
       "\tcalificacion\\_previos & 0.09515766 & 0.1415535 & 0.6722381 & 0.5014321\\\\\n",
       "\\end{tabular}\n"
      ],
      "text/markdown": [
       "\n",
       "A data.frame: 1 × 4\n",
       "\n",
       "| <!--/--> | coefficients.Estimate &lt;dbl&gt; | coefficients.Std..Error &lt;dbl&gt; | coefficients.z.value &lt;dbl&gt; | coefficients.Pr...z.. &lt;dbl&gt; |\n",
       "|---|---|---|---|---|\n",
       "| calificacion_previos | 0.09515766 | 0.1415535 | 0.6722381 | 0.5014321 |\n",
       "\n"
      ],
      "text/plain": [
       "                     coefficients.Estimate coefficients.Std..Error\n",
       "calificacion_previos 0.09515766            0.1415535              \n",
       "                     coefficients.z.value coefficients.Pr...z..\n",
       "calificacion_previos 0.6722381            0.5014321            "
      ]
     },
     "metadata": {},
     "output_type": "display_data"
    }
   ],
   "source": [
    "varnosignificativas<-summary(modelo)[12]\n",
    "varnosignificativas<-as.data.frame(varnosignificativas)\n",
    "varnosignificativas<-filter(varnosignificativas, abs(coefficients.z.value) <= qnorm(0.975))\n",
    "varnosignificativas"
   ]
  },
  {
   "cell_type": "markdown",
   "metadata": {},
   "source": [
    "Tenemos que la variable califiacion_previos no es significativa usando el estadístico Z con alpha=0.05"
   ]
  },
  {
   "cell_type": "markdown",
   "metadata": {},
   "source": [
    "#### 3)Dado que en este caso no podemos obtener un coeficiente de determinación como usualmente se obtiene vía ANOVA para el modelo normal, definiremos el siguiente seudo coeficiente de determinación: Número de predicciones correctas/Número total de observaciones. Acá, una observación será predicha como 1 si esta resulta estar en el rango [1, 0,5); y 0 en caso contrario. Luego, la observación predicha será correcta si esta última clasificación corresponde con lo observado. Obtenga entonces el porcentaje de observaciones predichas por el modelo ajustado."
   ]
  },
  {
   "cell_type": "code",
   "execution_count": 12,
   "metadata": {
    "scrolled": true
   },
   "outputs": [],
   "source": [
    "pred<-predict(modelo,type='response')\n",
    "predicciones<-ifelse(pred > 0.5, 1,0)"
   ]
  },
  {
   "cell_type": "code",
   "execution_count": 13,
   "metadata": {
    "scrolled": true
   },
   "outputs": [
    {
     "data": {
      "text/html": [
       "0.8125"
      ],
      "text/latex": [
       "0.8125"
      ],
      "text/markdown": [
       "0.8125"
      ],
      "text/plain": [
       "[1] 0.8125"
      ]
     },
     "metadata": {},
     "output_type": "display_data"
    }
   ],
   "source": [
    "comparacion<-data %>% mutate (comp= predicciones == calificacion_final)\n",
    "mean(comparacion$comp)"
   ]
  },
  {
   "cell_type": "markdown",
   "metadata": {},
   "source": [
    "Segun el indicador que creamos para ver la acertividad de nuestro modelo, tenemos que nuestro modelo acerta en un 81,25% de los casos en los que se puso a prueba"
   ]
  },
  {
   "cell_type": "markdown",
   "metadata": {},
   "source": [
    "####  4)Obtenga las Deviances del modelo ajustado completo, y luego en los modelos reducidos sin solamente el método de enseñanza, luego sin solamente las calificaciones de conocimientos previos, y finalmente sin estas dos, en conjunto. \n",
    "#### ¿Existe, a un nivel alfa=0,05, influencia significativa en la calificación final de estos predictores a nivel individual y en conjunto? Comparar con lo obtenido en 1) e interpretar."
   ]
  },
  {
   "cell_type": "markdown",
   "metadata": {},
   "source": [
    "Deviance del modelo ajustado completo"
   ]
  },
  {
   "cell_type": "code",
   "execution_count": 15,
   "metadata": {},
   "outputs": [
    {
     "data": {
      "text/html": [
       "25.7792684442628"
      ],
      "text/latex": [
       "25.7792684442628"
      ],
      "text/markdown": [
       "25.7792684442628"
      ],
      "text/plain": [
       "[1] 25.77927"
      ]
     },
     "metadata": {},
     "output_type": "display_data"
    }
   ],
   "source": [
    "modelo$deviance"
   ]
  },
  {
   "cell_type": "code",
   "execution_count": 17,
   "metadata": {},
   "outputs": [
    {
     "data": {
      "text/plain": [
       "\n",
       "Call:\n",
       "glm(formula = calificacion_final ~ calificacion_previos + promedio_inicial, \n",
       "    family = binomial, data = data)\n",
       "\n",
       "Deviance Residuals: \n",
       "    Min       1Q   Median       3Q      Max  \n",
       "-1.4085  -0.6882  -0.4677   0.7262   2.4553  \n",
       "\n",
       "Coefficients:\n",
       "                      Estimate Std. Error z value Pr(>|z|)   \n",
       "(Intercept)          -10.65600    4.05709  -2.627  0.00863 **\n",
       "calificacion_previos   0.08555    0.13318   0.642  0.52064   \n",
       "promedio_inicial       2.53828    1.18185   2.148  0.03174 * \n",
       "---\n",
       "Signif. codes:  0 '***' 0.001 '**' 0.01 '*' 0.05 '.' 0.1 ' ' 1\n",
       "\n",
       "(Dispersion parameter for binomial family taken to be 1)\n",
       "\n",
       "    Null deviance: 41.183  on 31  degrees of freedom\n",
       "Residual deviance: 31.983  on 29  degrees of freedom\n",
       "AIC: 37.983\n",
       "\n",
       "Number of Fisher Scoring iterations: 4\n"
      ]
     },
     "metadata": {},
     "output_type": "display_data"
    }
   ],
   "source": [
    "modelo_1<-glm(calificacion_final ~ calificacion_previos +\n",
    "        promedio_inicial , data = data, family=binomial)\n",
    "summary(modelo_1)"
   ]
  },
  {
   "cell_type": "markdown",
   "metadata": {},
   "source": [
    "Para el modelo sin la variable método de enseñanza la deviance aumenta a 31.98"
   ]
  },
  {
   "cell_type": "code",
   "execution_count": 18,
   "metadata": {},
   "outputs": [
    {
     "data": {
      "text/html": [
       "31.9829660657946"
      ],
      "text/latex": [
       "31.9829660657946"
      ],
      "text/markdown": [
       "31.9829660657946"
      ],
      "text/plain": [
       "[1] 31.98297"
      ]
     },
     "metadata": {},
     "output_type": "display_data"
    }
   ],
   "source": [
    "modelo_1$deviance"
   ]
  },
  {
   "cell_type": "code",
   "execution_count": 22,
   "metadata": {},
   "outputs": [
    {
     "data": {
      "text/plain": [
       "\n",
       "Call:\n",
       "glm(formula = calificacion_final ~ promedio_inicial, family = binomial, \n",
       "    data = data)\n",
       "\n",
       "Deviance Residuals: \n",
       "    Min       1Q   Median       3Q      Max  \n",
       "-1.3672  -0.6854  -0.5262   0.7193   2.4365  \n",
       "\n",
       "Coefficients:\n",
       "                 Estimate Std. Error z value Pr(>|z|)   \n",
       "(Intercept)        -9.703      3.671  -2.643  0.00821 **\n",
       "promedio_inicial    2.840      1.127   2.520  0.01173 * \n",
       "---\n",
       "Signif. codes:  0 '***' 0.001 '**' 0.01 '*' 0.05 '.' 0.1 ' ' 1\n",
       "\n",
       "(Dispersion parameter for binomial family taken to be 1)\n",
       "\n",
       "    Null deviance: 41.183  on 31  degrees of freedom\n",
       "Residual deviance: 32.418  on 30  degrees of freedom\n",
       "AIC: 36.418\n",
       "\n",
       "Number of Fisher Scoring iterations: 4\n"
      ]
     },
     "metadata": {},
     "output_type": "display_data"
    }
   ],
   "source": [
    "modelo_2<-glm(calificacion_final ~ promedio_inicial, data = data, family=binomial)\n",
    "summary(modelo_2)"
   ]
  },
  {
   "cell_type": "markdown",
   "metadata": {},
   "source": [
    "Para el caso en el que se mantenía solo la como variable explicativa el promedio incial, la deviance es de 32.418"
   ]
  },
  {
   "cell_type": "markdown",
   "metadata": {},
   "source": [
    "Para el modelo sin la variable conocimientos previos, la deviance se mantiene casi igual que con todas las variables explicativas."
   ]
  },
  {
   "cell_type": "code",
   "execution_count": 21,
   "metadata": {},
   "outputs": [
    {
     "data": {
      "text/html": [
       "26.2531472732633"
      ],
      "text/latex": [
       "26.2531472732633"
      ],
      "text/markdown": [
       "26.2531472732633"
      ],
      "text/plain": [
       "[1] 26.25315"
      ]
     },
     "metadata": {},
     "output_type": "display_data"
    }
   ],
   "source": [
    "modelo_2$deviance"
   ]
  },
  {
   "cell_type": "code",
   "execution_count": 26,
   "metadata": {},
   "outputs": [
    {
     "data": {
      "text/plain": [
       "\n",
       "Call:\n",
       "glm(formula = calificacion_final ~ 1, family = \"binomial\", data = data)\n",
       "\n",
       "Deviance Residuals: \n",
       "    Min       1Q   Median       3Q      Max  \n",
       "-0.9178  -0.9178  -0.9178   1.4614   1.4614  \n",
       "\n",
       "Coefficients:\n",
       "            Estimate Std. Error z value Pr(>|z|)  \n",
       "(Intercept)  -0.6466     0.3722  -1.737   0.0823 .\n",
       "---\n",
       "Signif. codes:  0 '***' 0.001 '**' 0.01 '*' 0.05 '.' 0.1 ' ' 1\n",
       "\n",
       "(Dispersion parameter for binomial family taken to be 1)\n",
       "\n",
       "    Null deviance: 41.183  on 31  degrees of freedom\n",
       "Residual deviance: 41.183  on 31  degrees of freedom\n",
       "AIC: 43.183\n",
       "\n",
       "Number of Fisher Scoring iterations: 4\n"
      ]
     },
     "metadata": {},
     "output_type": "display_data"
    }
   ],
   "source": [
    "modelo_3<-glm(formula = calificacion_final ~ 1 , data = data, family = \"binomial\" )\n",
    "summary(modelo_3)"
   ]
  },
  {
   "cell_type": "markdown",
   "metadata": {},
   "source": [
    "Para el modelo saturado la deviance es de 41.183"
   ]
  },
  {
   "cell_type": "markdown",
   "metadata": {},
   "source": [
    "Para finalizar hay que mencionar que existe solo una variable que resulta en todos los modelos no ser significativa y es la variable de calificacion previas. Además el modelo completo es el modelo con menor deviance y por ende, el modelo más completo"
   ]
  }
 ],
 "metadata": {
  "kernelspec": {
   "display_name": "R",
   "language": "R",
   "name": "ir"
  },
  "language_info": {
   "codemirror_mode": "r",
   "file_extension": ".r",
   "mimetype": "text/x-r-source",
   "name": "R",
   "pygments_lexer": "r",
   "version": "3.6.1"
  }
 },
 "nbformat": 4,
 "nbformat_minor": 4
}
